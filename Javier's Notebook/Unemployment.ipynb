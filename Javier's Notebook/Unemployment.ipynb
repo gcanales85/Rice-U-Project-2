{
 "cells": [
  {
   "cell_type": "code",
   "execution_count": 15,
   "metadata": {},
   "outputs": [],
   "source": [
    "import sqlalchemy\n",
    "from sqlalchemy.ext.automap import automap_base\n",
    "from sqlalchemy.orm import Session\n",
    "from sqlalchemy import create_engine, inspect, func\n",
    "import os\n",
    "import pandas as pd\n"
   ]
  },
  {
   "cell_type": "code",
   "execution_count": 16,
   "metadata": {},
   "outputs": [
    {
     "data": {
      "text/html": [
       "<div>\n",
       "<style scoped>\n",
       "    .dataframe tbody tr th:only-of-type {\n",
       "        vertical-align: middle;\n",
       "    }\n",
       "\n",
       "    .dataframe tbody tr th {\n",
       "        vertical-align: top;\n",
       "    }\n",
       "\n",
       "    .dataframe thead th {\n",
       "        text-align: right;\n",
       "    }\n",
       "</style>\n",
       "<table border=\"1\" class=\"dataframe\">\n",
       "  <thead>\n",
       "    <tr style=\"text-align: right;\">\n",
       "      <th></th>\n",
       "      <th>State</th>\n",
       "      <th>Oct-10</th>\n",
       "      <th>Nov-10</th>\n",
       "      <th>Dec-10</th>\n",
       "      <th>Jan-11</th>\n",
       "      <th>Feb-11</th>\n",
       "      <th>Mar-11</th>\n",
       "      <th>Apr-11</th>\n",
       "      <th>May-11</th>\n",
       "      <th>Jun-11</th>\n",
       "      <th>...</th>\n",
       "      <th>Jan-20</th>\n",
       "      <th>Feb-20</th>\n",
       "      <th>Mar-20</th>\n",
       "      <th>Apr-20</th>\n",
       "      <th>May-20</th>\n",
       "      <th>Jun-20</th>\n",
       "      <th>Jul-20</th>\n",
       "      <th>Aug-20</th>\n",
       "      <th>Sep-20</th>\n",
       "      <th>Oct-20</th>\n",
       "    </tr>\n",
       "  </thead>\n",
       "  <tbody>\n",
       "    <tr>\n",
       "      <th>0</th>\n",
       "      <td>Alabama</td>\n",
       "      <td>10.1</td>\n",
       "      <td>10.2</td>\n",
       "      <td>10.3</td>\n",
       "      <td>10.2</td>\n",
       "      <td>10.2</td>\n",
       "      <td>10.1</td>\n",
       "      <td>10.0</td>\n",
       "      <td>10.0</td>\n",
       "      <td>10.0</td>\n",
       "      <td>...</td>\n",
       "      <td>2.7</td>\n",
       "      <td>2.7</td>\n",
       "      <td>3</td>\n",
       "      <td>13.8</td>\n",
       "      <td>9.6</td>\n",
       "      <td>7.6</td>\n",
       "      <td>7.9</td>\n",
       "      <td>5.6</td>\n",
       "      <td>6.7</td>\n",
       "      <td>5.8</td>\n",
       "    </tr>\n",
       "    <tr>\n",
       "      <th>1</th>\n",
       "      <td>Alaska</td>\n",
       "      <td>7.8</td>\n",
       "      <td>7.8</td>\n",
       "      <td>7.8</td>\n",
       "      <td>7.8</td>\n",
       "      <td>7.7</td>\n",
       "      <td>7.7</td>\n",
       "      <td>7.6</td>\n",
       "      <td>7.6</td>\n",
       "      <td>7.5</td>\n",
       "      <td>...</td>\n",
       "      <td>6.0</td>\n",
       "      <td>5.8</td>\n",
       "      <td>5.2</td>\n",
       "      <td>13.5</td>\n",
       "      <td>12.7</td>\n",
       "      <td>12.4</td>\n",
       "      <td>11.6</td>\n",
       "      <td>7.4</td>\n",
       "      <td>7.2</td>\n",
       "      <td>5.9</td>\n",
       "    </tr>\n",
       "    <tr>\n",
       "      <th>2</th>\n",
       "      <td>Arizona</td>\n",
       "      <td>10.1</td>\n",
       "      <td>10.0</td>\n",
       "      <td>9.9</td>\n",
       "      <td>9.8</td>\n",
       "      <td>9.7</td>\n",
       "      <td>9.7</td>\n",
       "      <td>9.7</td>\n",
       "      <td>9.7</td>\n",
       "      <td>9.7</td>\n",
       "      <td>...</td>\n",
       "      <td>4.5</td>\n",
       "      <td>4.5</td>\n",
       "      <td>6.1</td>\n",
       "      <td>13.4</td>\n",
       "      <td>9.0</td>\n",
       "      <td>10.0</td>\n",
       "      <td>10.7</td>\n",
       "      <td>5.9</td>\n",
       "      <td>6.5</td>\n",
       "      <td>8.0</td>\n",
       "    </tr>\n",
       "    <tr>\n",
       "      <th>3</th>\n",
       "      <td>Arkansas</td>\n",
       "      <td>8.3</td>\n",
       "      <td>8.3</td>\n",
       "      <td>8.4</td>\n",
       "      <td>8.5</td>\n",
       "      <td>8.5</td>\n",
       "      <td>8.5</td>\n",
       "      <td>8.5</td>\n",
       "      <td>8.5</td>\n",
       "      <td>8.4</td>\n",
       "      <td>...</td>\n",
       "      <td>3.5</td>\n",
       "      <td>3.5</td>\n",
       "      <td>5</td>\n",
       "      <td>10.8</td>\n",
       "      <td>9.6</td>\n",
       "      <td>8.1</td>\n",
       "      <td>7.1</td>\n",
       "      <td>7.4</td>\n",
       "      <td>7.2</td>\n",
       "      <td>6.2</td>\n",
       "    </tr>\n",
       "    <tr>\n",
       "      <th>4</th>\n",
       "      <td>California</td>\n",
       "      <td>12.3</td>\n",
       "      <td>12.3</td>\n",
       "      <td>12.2</td>\n",
       "      <td>12.1</td>\n",
       "      <td>12.0</td>\n",
       "      <td>11.9</td>\n",
       "      <td>11.8</td>\n",
       "      <td>11.8</td>\n",
       "      <td>11.8</td>\n",
       "      <td>...</td>\n",
       "      <td>3.9</td>\n",
       "      <td>3.9</td>\n",
       "      <td>5.5</td>\n",
       "      <td>16.4</td>\n",
       "      <td>16.4</td>\n",
       "      <td>14.9</td>\n",
       "      <td>13.5</td>\n",
       "      <td>11.2</td>\n",
       "      <td>11.1</td>\n",
       "      <td>9.3</td>\n",
       "    </tr>\n",
       "  </tbody>\n",
       "</table>\n",
       "<p>5 rows × 122 columns</p>\n",
       "</div>"
      ],
      "text/plain": [
       "        State  Oct-10  Nov-10  Dec-10  Jan-11  Feb-11  Mar-11  Apr-11  May-11  \\\n",
       "0     Alabama    10.1    10.2    10.3    10.2    10.2    10.1    10.0    10.0   \n",
       "1      Alaska     7.8     7.8     7.8     7.8     7.7     7.7     7.6     7.6   \n",
       "2     Arizona    10.1    10.0     9.9     9.8     9.7     9.7     9.7     9.7   \n",
       "3    Arkansas     8.3     8.3     8.4     8.5     8.5     8.5     8.5     8.5   \n",
       "4  California    12.3    12.3    12.2    12.1    12.0    11.9    11.8    11.8   \n",
       "\n",
       "   Jun-11  ...  Jan-20  Feb-20  Mar-20  Apr-20  May-20  Jun-20  Jul-20  \\\n",
       "0    10.0  ...     2.7     2.7       3    13.8     9.6     7.6     7.9   \n",
       "1     7.5  ...     6.0     5.8     5.2    13.5    12.7    12.4    11.6   \n",
       "2     9.7  ...     4.5     4.5     6.1    13.4     9.0    10.0    10.7   \n",
       "3     8.4  ...     3.5     3.5       5    10.8     9.6     8.1     7.1   \n",
       "4    11.8  ...     3.9     3.9     5.5    16.4    16.4    14.9    13.5   \n",
       "\n",
       "   Aug-20  Sep-20  Oct-20  \n",
       "0     5.6     6.7     5.8  \n",
       "1     7.4     7.2     5.9  \n",
       "2     5.9     6.5     8.0  \n",
       "3     7.4     7.2     6.2  \n",
       "4    11.2    11.1     9.3  \n",
       "\n",
       "[5 rows x 122 columns]"
      ]
     },
     "execution_count": 16,
     "metadata": {},
     "output_type": "execute_result"
    }
   ],
   "source": [
    "csv_file = os.path.join(\"state_unemployment.csv\")\n",
    "state_unemployment_df = pd.read_csv(csv_file)\n",
    "state_unemployment_df.head()"
   ]
  },
  {
   "cell_type": "code",
   "execution_count": 17,
   "metadata": {},
   "outputs": [
    {
     "data": {
      "text/plain": [
       "State      object\n",
       "Oct-10    float64\n",
       "Nov-10    float64\n",
       "Dec-10    float64\n",
       "Jan-11    float64\n",
       "           ...   \n",
       "Jun-20    float64\n",
       "Jul-20    float64\n",
       "Aug-20    float64\n",
       "Sep-20    float64\n",
       "Oct-20    float64\n",
       "Length: 122, dtype: object"
      ]
     },
     "execution_count": 17,
     "metadata": {},
     "output_type": "execute_result"
    }
   ],
   "source": [
    "state_unemployment_df.dtypes"
   ]
  },
  {
   "cell_type": "code",
   "execution_count": null,
   "metadata": {},
   "outputs": [],
   "source": [
    "state_unemployment_df.to_dict(orient=\"records\")"
   ]
  },
  {
   "cell_type": "code",
   "execution_count": 18,
   "metadata": {},
   "outputs": [],
   "source": [
    "pg_user = 'postgres'\n",
    "pg_password = 'brassclaw1'\n",
    "db_name = 'unemployment_db'\n",
    "\n",
    "connection_string = f\"{pg_user}:{pg_password}@localhost:5432/{db_name}\"\n",
    "engine = create_engine(f'postgresql://{connection_string}')"
   ]
  },
  {
   "cell_type": "code",
   "execution_count": 19,
   "metadata": {},
   "outputs": [
    {
     "data": {
      "text/plain": [
       "['states']"
      ]
     },
     "execution_count": 19,
     "metadata": {},
     "output_type": "execute_result"
    }
   ],
   "source": [
    "engine.table_names()"
   ]
  },
  {
   "cell_type": "code",
   "execution_count": 20,
   "metadata": {},
   "outputs": [
    {
     "ename": "ProgrammingError",
     "evalue": "(psycopg2.errors.UndefinedColumn) column \"Oct-10\" of relation \"states\" does not exist\nLINE 1: INSERT INTO states (\"State\", \"Oct-10\", \"Nov-10\", \"Dec-10\", \"...\n                                     ^\n\n[SQL: INSERT INTO states (\"State\", \"Oct-10\", \"Nov-10\", \"Dec-10\", \"Jan-11\", \"Feb-11\", \"Mar-11\", \"Apr-11\", \"May-11\", \"Jun-11\", \"Jul-11\", \"Aug-11\", \"Sep-11\", \"Oct-11\", \"Nov-11\", \"Dec-11\", \"Jan-12\", \"Feb-12\", \"Mar-12\", \"Apr-12\", \"May-12\", \"Jun-12\", \"Jul-12\", \"Aug-12\", \"Sep-12\", \"Oct-12\", \"Nov-12\", \"Dec-12\", \"Jan-13\", \"Feb-13\", \"Mar-13\", \"Apr-13\", \"May-13\", \"Jun-13\", \"Jul-13\", \"Aug-13\", \"Sep-13\", \"Oct-13\", \"Nov-13\", \"Dec-13\", \"Jan-14\", \"Feb-14\", \"Mar-14\", \"Apr-14\", \"May-14\", \"Jun-14\", \"Jul-14\", \"Aug-14\", \"Sep-14\", \"Oct-14\", \"Nov-14\", \"Dec-14\", \"Jan-15\", \"Feb-15\", \"Mar-15\", \"Apr-15\", \"May-15\", \"Jun-15\", \"Jul-15\", \"Aug-15\", \"Sep-15\", \"Oct-15\", \"Nov-15\", \"Dec-15\", \"Jan-16\", \"Feb-16\", \"Mar-16\", \"Apr-16\", \"May-16\", \"Jun-16\", \"Jul-16\", \"Aug-16\", \"Sep-16\", \"Oct-16\", \"Nov-16\", \"Dec-16\", \"Jan-17\", \"Feb-17\", \"Mar-17\", \"Apr-17\", \"May-17\", \"Jun-17\", \"Jul-17\", \"Aug-17\", \"Sep-17\", \"Oct-17\", \"Nov-17\", \"Dec-17\", \"Jan-18\", \"Feb-18\", \"Mar-18\", \"Apr-18\", \"May-18\", \"Jun-18\", \"Jul-18\", \"Aug-18\", \"Sep-18\", \"Oct-18\", \"Nov-18\", \"Dec-18\", \"Jan-19\", \"Feb-19\", \"Mar-19\", \"Apr-19\", \"May-19\", \"Jun-19\", \"Jul-19\", \"Aug-19\", \"Sep-19\", \"Oct-19\", \"Nov-19\", \"Dec-19\", \"Jan-20\", \"Feb-20\", \"Mar-20\", \"Apr-20\", \"May-20\", \"Jun-20\", \"Jul-20\", \"Aug-20\", \"Sep-20\", \"Oct-20\") VALUES (%(State)s, %(Oct-10)s, %(Nov-10)s, %(Dec-10)s, %(Jan-11)s, %(Feb-11)s, %(Mar-11)s, %(Apr-11)s, %(May-11)s, %(Jun-11)s, %(Jul-11)s, %(Aug-11)s, %(Sep-11)s, %(Oct-11)s, %(Nov-11)s, %(Dec-11)s, %(Jan-12)s, %(Feb-12)s, %(Mar-12)s, %(Apr-12)s, %(May-12)s, %(Jun-12)s, %(Jul-12)s, %(Aug-12)s, %(Sep-12)s, %(Oct-12)s, %(Nov-12)s, %(Dec-12)s, %(Jan-13)s, %(Feb-13)s, %(Mar-13)s, %(Apr-13)s, %(May-13)s, %(Jun-13)s, %(Jul-13)s, %(Aug-13)s, %(Sep-13)s, %(Oct-13)s, %(Nov-13)s, %(Dec-13)s, %(Jan-14)s, %(Feb-14)s, %(Mar-14)s, %(Apr-14)s, %(May-14)s, %(Jun-14)s, %(Jul-14)s, %(Aug-14)s, %(Sep-14)s, %(Oct-14)s, %(Nov-14)s, %(Dec-14)s, %(Jan-15)s, %(Feb-15)s, %(Mar-15)s, %(Apr-15)s, %(May-15)s, %(Jun-15)s, %(Jul-15)s, %(Aug-15)s, %(Sep-15)s, %(Oct-15)s, %(Nov-15)s, %(Dec-15)s, %(Jan-16)s, %(Feb-16)s, %(Mar-16)s, %(Apr-16)s, %(May-16)s, %(Jun-16)s, %(Jul-16)s, %(Aug-16)s, %(Sep-16)s, %(Oct-16)s, %(Nov-16)s, %(Dec-16)s, %(Jan-17)s, %(Feb-17)s, %(Mar-17)s, %(Apr-17)s, %(May-17)s, %(Jun-17)s, %(Jul-17)s, %(Aug-17)s, %(Sep-17)s, %(Oct-17)s, %(Nov-17)s, %(Dec-17)s, %(Jan-18)s, %(Feb-18)s, %(Mar-18)s, %(Apr-18)s, %(May-18)s, %(Jun-18)s, %(Jul-18)s, %(Aug-18)s, %(Sep-18)s, %(Oct-18)s, %(Nov-18)s, %(Dec-18)s, %(Jan-19)s, %(Feb-19)s, %(Mar-19)s, %(Apr-19)s, %(May-19)s, %(Jun-19)s, %(Jul-19)s, %(Aug-19)s, %(Sep-19)s, %(Oct-19)s, %(Nov-19)s, %(Dec-19)s, %(Jan-20)s, %(Feb-20)s, %(Mar-20)s, %(Apr-20)s, %(May-20)s, %(Jun-20)s, %(Jul-20)s, %(Aug-20)s, %(Sep-20)s, %(Oct-20)s)]\n[parameters: ({'State': 'Alabama', 'Oct-10': 10.1, 'Nov-10': 10.2, 'Dec-10': 10.3, 'Jan-11': 10.2, 'Feb-11': 10.2, 'Mar-11': 10.1, 'Apr-11': 10.0, 'May-11': 10.0, 'Jun-11': 10.0, 'Jul-11': 9.9, 'Aug-11': 9.7, 'Sep-11': 9.4, 'Oct-11': 9.0, 'Nov-11': 8.6, 'Dec-11': 8.3, 'Jan-12': 8.1, 'Feb-12': 7.9, 'Mar-12': 8.0, 'Apr-12': 8.1, 'May-12': 8.2, 'Jun-12': 8.3, 'Jul-12': 8.2, 'Aug-12': 8.1, 'Sep-12': 7.9, 'Oct-12': 7.8, 'Nov-12': 7.6, 'Dec-12': 7.6, 'Jan-13': 7.5, 'Feb-13': 7.4, 'Mar-13': 7.3, 'Apr-13': 7.2, 'May-13': 7.1, 'Jun-13': 7.0, 'Jul-13': 7.1, 'Aug-13': 7.1, 'Sep-13': 7.2, 'Oct-13': 7.2, 'Nov-13': 7.2, 'Dec-13': 7.3, 'Jan-14': 7.2, 'Feb-14': 7.2, 'Mar-14': 7.2, 'Apr-14': 7.1, 'May-14': 7.0, 'Jun-14': 6.9, 'Jul-14': 6.7, 'Aug-14': 6.6, 'Sep-14': 6.5, 'Oct-14': 6.4, 'Nov-14': 6.2, 'Dec-14': 6.1, 'Jan-15': 6.0, 'Feb-15': 6.0, 'Mar-15': 6.1, 'Apr-15': 6.1, 'May-15': 6.2, 'Jun-15': 6.2, 'Jul-15': 6.2, 'Aug-15': 6.1, 'Sep-15': 6.1, 'Oct-15': 6.0, 'Nov-15': 6.0, 'Dec-15': 6.0, 'Jan-16': 6.0, 'Feb-16': 5.9, 'Mar-16': 5.9, 'Apr-16': 5.8, 'May-16': 5.8, 'Jun-16': 5.8, 'Jul-16': 5.8, 'Aug-16': 5.8, 'Sep-16': 5.9, 'Oct-16': 5.9, 'Nov-16': 5.8, 'Dec-16': 5.7, 'Jan-17': 5.4, 'Feb-17': 5.2, 'Mar-17': 4.9, 'Apr-17': 4.7, 'May-17': 4.5, 'Jun-17': 4.3, 'Jul-17': 4.2, 'Aug-17': 4.1, 'Sep-17': 4.0, 'Oct-17': 3.9, 'Nov-17': 3.9, 'Dec-17': 3.9, 'Jan-18': 3.9, 'Feb-18': 3.9, 'Mar-18': 4.0, 'Apr-18': 4.0, 'May-18': 4.0, 'Jun-18': 4.0, 'Jul-18': 4.0, 'Aug-18': 3.9, 'Sep-18': 3.8, 'Oct-18': 3.7, 'Nov-18': 3.7, 'Dec-18': 3.6, 'Jan-19': 3.6, 'Feb-19': 3.5, 'Mar-19': 3.3, 'Apr-19': 3.2, 'May-19': 3.0, 'Jun-19': 2.9, 'Jul-19': 2.8, 'Aug-19': 2.8, 'Sep-19': 2.7, 'Oct-19': 2.7, 'Nov-19': 2.7, 'Dec-19': 2.7, 'Jan-20': 2.7, 'Feb-20': 2.7, 'Mar-20': '3', 'Apr-20': '13.8', 'May-20': 9.6, 'Jun-20': 7.6, 'Jul-20': 7.9, 'Aug-20': 5.6, 'Sep-20': 6.7, 'Oct-20': 5.8}, {'State': 'Alaska', 'Oct-10': 7.8, 'Nov-10': 7.8, 'Dec-10': 7.8, 'Jan-11': 7.8, 'Feb-11': 7.7, 'Mar-11': 7.7, 'Apr-11': 7.6, 'May-11': 7.6, 'Jun-11': 7.5, 'Jul-11': 7.5, 'Aug-11': 7.5, 'Sep-11': 7.5, 'Oct-11': 7.5, 'Nov-11': 7.5, 'Dec-11': 7.4, 'Jan-12': 7.4, 'Feb-12': 7.3, 'Mar-12': 7.3, 'Apr-12': 7.2, 'May-12': 7.2, 'Jun-12': 7.1, 'Jul-12': 7.1, 'Aug-12': 7.0, 'Sep-12': 7.0, 'Oct-12': 7.0, 'Nov-12': 7.0, 'Dec-12': 7.0, 'Jan-13': 7.0, 'Feb-13': 7.0, 'Mar-13': 7.0, 'Apr-13': 7.0, 'May-13': 7.0, 'Jun-13': 7.0, 'Jul-13': 7.0, 'Aug-13': 7.0, 'Sep-13': 7.0, 'Oct-13': 7.0, 'Nov-13': 7.0, 'Dec-13': 7.0, 'Jan-14': 7.0, 'Feb-14': 7.0, 'Mar-14': 7.0, 'Apr-14': 7.0, 'May-14': 7.0, 'Jun-14': 7.0, 'Jul-14': 6.9, 'Aug-14': 6.9, 'Sep-14': 6.8, 'Oct-14': 6.7, 'Nov-14': 6.6, 'Dec-14': 6.5, 'Jan-15': 6.5, 'Feb-15': 6.5, 'Mar-15': 6.5, 'Apr-15': 6.5, 'May-15': 6.5, 'Jun-15': 6.5, 'Jul-15': 6.5, 'Aug-15': 6.5, 'Sep-15': 6.5, 'Oct-15': 6.6, 'Nov-15': 6.6, 'Dec-15': 6.7, 'Jan-16': 6.7, 'Feb-16': 6.8, 'Mar-16': 6.8, 'Apr-16': 6.8, 'May-16': 6.9, 'Jun-16': 6.9, 'Jul-16': 6.9, 'Aug-16': 6.9, 'Sep-16': 6.9, 'Oct-16': 6.9, 'Nov-16': 6.9, 'Dec-16': 6.9, 'Jan-17': 6.9, 'Feb-17': 6.9, 'Mar-17': 6.9, 'Apr-17': 6.9, 'May-17': 6.9, 'Jun-17': 6.9, 'Jul-17': 6.9, 'Aug-17': 6.9, 'Sep-17': 6.9, 'Oct-17': 6.9, 'Nov-17': 6.8, 'Dec-17': 6.8, 'Jan-18': 6.7, 'Feb-18': 6.7, 'Mar-18': 6.6, 'Apr-18': 6.6, 'May-18': 6.5, 'Jun-18': 6.5, 'Jul-18': 6.4, 'Aug-18': 6.4, 'Sep-18': 6.3, 'Oct-18': 6.3, 'Nov-18': 6.2, 'Dec-18': 6.2, 'Jan-19': 6.1, 'Feb-19': 6.1, 'Mar-19': 6.1, 'Apr-19': 6.1, 'May-19': 6.2, 'Jun-19': 6.2, 'Jul-19': 6.2, 'Aug-19': 6.2, 'Sep-19': 6.2, 'Oct-19': 6.1, 'Nov-19': 6.1, 'Dec-19': 6.1, 'Jan-20': 6.0, 'Feb-20': 5.8, 'Mar-20': '5.2', 'Apr-20': '13.5', 'May-20': 12.7, 'Jun-20': 12.4, 'Jul-20': 11.6, 'Aug-20': 7.4, 'Sep-20': 7.2, 'Oct-20': 5.9}, {'State': 'Arizona', 'Oct-10': 10.1, 'Nov-10': 10.0, 'Dec-10': 9.9, 'Jan-11': 9.8, 'Feb-11': 9.7, 'Mar-11': 9.7, 'Apr-11': 9.7, 'May-11': 9.7, 'Jun-11': 9.7, 'Jul-11': 9.7, 'Aug-11': 9.6, 'Sep-11': 9.4, 'Oct-11': 9.2, 'Nov-11': 9.0, 'Dec-11': 8.8, 'Jan-12': 8.7, 'Feb-12': 8.7, 'Mar-12': 8.6, 'Apr-12': 8.6, 'May-12': 8.5, 'Jun-12': 8.5, 'Jul-12': 8.3, 'Aug-12': 8.2, 'Sep-12': 8.1, 'Oct-12': 8.0, 'Nov-12': 7.9, 'Dec-12': 7.9, 'Jan-13': 7.9, 'Feb-13': 7.9, 'Mar-13': 7.9, 'Apr-13': 7.9, 'May-13': 7.8, 'Jun-13': 7.8, 'Jul-13': 7.8, 'Aug-13': 7.7, 'Sep-13': 7.7, 'Oct-13': 7.6, 'Nov-13': 7.5, 'Dec-13': 7.4, 'Jan-14': 7.3, 'Feb-14': 7.1, 'Mar-14': 7.0, 'Apr-14': 6.9, 'May-14': 6.9, 'Jun-14': 6.8, 'Jul-14': 6.7, 'Aug-14': 6.7, 'Sep-14': 6.6, 'Oct-14': 6.6, 'Nov-14': 6.5, 'Dec-14': 6.5, 'Jan-15': 6.4, 'Feb-15': 6.3, 'Mar-15': 6.3, 'Apr-15': 6.2, 'May-15': 6.1, 'Jun-15': 6.1, 'Jul-15': 6.0, 'Aug-15': 6.0, 'Sep-15': 5.9, 'Oct-15': 5.9, 'Nov-15': 5.8, 'Dec-15': 5.7, 'Jan-16': 5.6, 'Feb-16': 5.5, 'Mar-16': 5.5, 'Apr-16': 5.5, 'May-16': 5.4, 'Jun-16': 5.4, 'Jul-16': 5.4, 'Aug-16': 5.3, 'Sep-16': 5.3, 'Oct-16': 5.2, 'Nov-16': 5.2, 'Dec-16': 5.2, 'Jan-17': 5.1, 'Feb-17': 5.1, 'Mar-17': 5.0, 'Apr-17': 5.0, 'May-17': 4.9, 'Jun-17': 4.8, 'Jul-17': 4.8, 'Aug-17': 4.7, 'Sep-17': 4.7, 'Oct-17': 4.7, 'Nov-17': 4.7, 'Dec-17': 4.8, 'Jan-18': 4.8, 'Feb-18': 4.8, 'Mar-18': 4.7, 'Apr-18': 4.7, 'May-18': 4.7, 'Jun-18': 4.7, 'Jul-18': 4.7, 'Aug-18': 4.7, 'Sep-18': 4.7, 'Oct-18': 4.8, 'Nov-18': 4.8, 'Dec-18': 4.8, 'Jan-19': 4.9, 'Feb-19': 4.9, 'Mar-19': 4.8, 'Apr-19': 4.8, 'May-19': 4.8, 'Jun-19': 4.8, 'Jul-19': 4.7, 'Aug-19': 4.6, 'Sep-19': 4.6, 'Oct-19': 4.5, 'Nov-19': 4.5, 'Dec-19': 4.5, 'Jan-20': 4.5, 'Feb-20': 4.5, 'Mar-20': '6.1', 'Apr-20': '13.4', 'May-20': 9.0, 'Jun-20': 10.0, 'Jul-20': 10.7, 'Aug-20': 5.9, 'Sep-20': 6.5, 'Oct-20': 8.0}, {'State': 'Arkansas', 'Oct-10': 8.3, 'Nov-10': 8.3, 'Dec-10': 8.4, 'Jan-11': 8.5, 'Feb-11': 8.5, 'Mar-11': 8.5, 'Apr-11': 8.5, 'May-11': 8.5, 'Jun-11': 8.4, 'Jul-11': 8.4, 'Aug-11': 8.3, 'Sep-11': 8.2, 'Oct-11': 8.0, 'Nov-11': 7.9, 'Dec-11': 7.8, 'Jan-12': 7.7, 'Feb-12': 7.6, 'Mar-12': 7.6, 'Apr-12': 7.6, 'May-12': 7.6, 'Jun-12': 7.6, 'Jul-12': 7.6, 'Aug-12': 7.6, 'Sep-12': 7.5, 'Oct-12': 7.5, 'Nov-12': 7.5, 'Dec-12': 7.5, 'Jan-13': 7.4, 'Feb-13': 7.4, 'Mar-13': 7.4, 'Apr-13': 7.4, 'May-13': 7.4, 'Jun-13': 7.3, 'Jul-13': 7.3, 'Aug-13': 7.2, 'Sep-13': 7.1, 'Oct-13': 7.0, 'Nov-13': 6.9, 'Dec-13': 6.8, 'Jan-14': 6.6, 'Feb-14': 6.5, 'Mar-14': 6.3, 'Apr-14': 6.2, 'May-14': 6.1, 'Jun-14': 6.0, 'Jul-14': 5.9, 'Aug-14': 5.8, 'Sep-14': 5.8, 'Oct-14': 5.7, 'Nov-14': 5.7, 'Dec-14': 5.6, 'Jan-15': 5.6, 'Feb-15': 5.5, 'Mar-15': 5.5, 'Apr-15': 5.4, 'May-15': 5.3, 'Jun-15': 5.1, 'Jul-15': 5.0, 'Aug-15': 4.8, 'Sep-15': 4.7, 'Oct-15': 4.5, 'Nov-15': 4.4, 'Dec-15': 4.3, 'Jan-16': 4.2, 'Feb-16': 4.2, 'Mar-16': 4.1, 'Apr-16': 4.0, 'May-16': 4.0, 'Jun-16': 4.0, 'Jul-16': 4.0, 'Aug-16': 3.9, 'Sep-16': 3.9, 'Oct-16': 3.8, 'Nov-16': 3.8, 'Dec-16': 3.7, 'Jan-17': 3.7, 'Feb-17': 3.7, 'Mar-17': 3.6, 'Apr-17': 3.6, 'May-17': 3.7, 'Jun-17': 3.7, 'Jul-17': 3.7, 'Aug-17': 3.7, 'Sep-17': 3.7, 'Oct-17': 3.7, 'Nov-17': 3.7, 'Dec-17': 3.7, 'Jan-18': 3.7, 'Feb-18': 3.7, 'Mar-18': 3.7, 'Apr-18': 3.7, 'May-18': 3.7, 'Jun-18': 3.6, 'Jul-18': 3.6, 'Aug-18': 3.6, 'Sep-18': 3.6, 'Oct-18': 3.6, 'Nov-18': 3.6, 'Dec-18': 3.6, 'Jan-19': 3.6, 'Feb-19': 3.6, 'Mar-19': 3.5, 'Apr-19': 3.5, 'May-19': 3.5, 'Jun-19': 3.6, 'Jul-19': 3.6, 'Aug-19': 3.6, 'Sep-19': 3.6, 'Oct-19': 3.5, 'Nov-19': 3.5, 'Dec-19': 3.5, 'Jan-20': 3.5, 'Feb-20': 3.5, 'Mar-20': '5', 'Apr-20': '10.8', 'May-20': 9.6, 'Jun-20': 8.1, 'Jul-20': 7.1, 'Aug-20': 7.4, 'Sep-20': 7.2, 'Oct-20': 6.2}, {'State': 'California', 'Oct-10': 12.3, 'Nov-10': 12.3, 'Dec-10': 12.2, 'Jan-11': 12.1, 'Feb-11': 12.0, 'Mar-11': 11.9, 'Apr-11': 11.8, 'May-11': 11.8, 'Jun-11': 11.8, 'Jul-11': 11.8, 'Aug-11': 11.7, 'Sep-11': 11.6, 'Oct-11': 11.5, 'Nov-11': 11.3, 'Dec-11': 11.2, 'Jan-12': 11.0, 'Feb-12': 10.9, 'Mar-12': 10.8, 'Apr-12': 10.7, 'May-12': 10.6, 'Jun-12': 10.5, 'Jul-12': 10.4, 'Aug-12': 10.2, 'Sep-12': 10.0, 'Oct-12': 9.9, 'Nov-12': 9.8, 'Dec-12': 9.7, 'Jan-13': 9.6, 'Feb-13': 9.4, 'Mar-13': 9.3, 'Apr-13': 9.2, 'May-13': 9.1, 'Jun-13': 9.0, 'Jul-13': 8.9, 'Aug-13': 8.8, 'Sep-13': 8.7, 'Oct-13': 8.6, 'Nov-13': 8.4, 'Dec-13': 8.3, 'Jan-14': 8.2, 'Feb-14': 8.0, 'Mar-14': 7.9, 'Apr-14': 7.8, 'May-14': 7.7, 'Jun-14': 7.5, 'Jul-14': 7.4, 'Aug-14': 7.3, 'Sep-14': 7.2, 'Oct-14': 7.1, 'Nov-14': 7.0, 'Dec-14': 6.9, 'Jan-15': 6.8, 'Feb-15': 6.7, 'Mar-15': 6.6, 'Apr-15': 6.5, 'May-15': 6.4, 'Jun-15': 6.2, 'Jul-15': 6.1, 'Aug-15': 6.0, 'Sep-15': 5.9, 'Oct-15': 5.8, 'Nov-15': 5.8, 'Dec-15': 5.7, 'Jan-16': 5.7, 'Feb-16': 5.6, 'Mar-16': 5.6, 'Apr-16': 5.5, 'May-16': 5.5, 'Jun-16': 5.5, 'Jul-16': 5.5, 'Aug-16': 5.5, 'Sep-16': 5.4, 'Oct-16': 5.4, 'Nov-16': 5.4, 'Dec-16': 5.3, 'Jan-17': 5.2, 'Feb-17': 5.1, 'Mar-17': 5.0, 'Apr-17': 4.9, 'May-17': 4.9, 'Jun-17': 4.8, 'Jul-17': 4.8, 'Aug-17': 4.7, 'Sep-17': 4.6, 'Oct-17': 4.6, 'Nov-17': 4.5, 'Dec-17': 4.4, 'Jan-18': 4.4, 'Feb-18': 4.3, 'Mar-18': 4.3, 'Apr-18': 4.3, 'May-18': 4.3, 'Jun-18': 4.2, 'Jul-18': 4.2, 'Aug-18': 4.2, 'Sep-18': 4.2, 'Oct-18': 4.2, 'Nov-18': 4.2, 'Dec-18': 4.3, 'Jan-19': 4.3, 'Feb-19': 4.3, 'Mar-19': 4.2, 'Apr-19': 4.2, 'May-19': 4.1, 'Jun-19': 4.0, 'Jul-19': 4.0, 'Aug-19': 3.9, 'Sep-19': 3.9, 'Oct-19': 3.9, 'Nov-19': 3.9, 'Dec-19': 3.9, 'Jan-20': 3.9, 'Feb-20': 3.9, 'Mar-20': '5.5', 'Apr-20': '16.4', 'May-20': 16.4, 'Jun-20': 14.9, 'Jul-20': 13.5, 'Aug-20': 11.2, 'Sep-20': 11.1, 'Oct-20': 9.3}, {'State': 'Colorado', 'Oct-10': 8.9, 'Nov-10': 8.9, 'Dec-10': 8.9, 'Jan-11': 8.8, 'Feb-11': 8.7, 'Mar-11': 8.5, 'Apr-11': 8.4, 'May-11': 8.3, 'Jun-11': 8.3, 'Jul-11': 8.3, 'Aug-11': 8.2, 'Sep-11': 8.2, 'Oct-11': 8.2, 'Nov-11': 8.2, 'Dec-11': 8.2, 'Jan-12': 8.2, 'Feb-12': 8.1, 'Mar-12': 8.1, 'Apr-12': 8.1, 'May-12': 8.0, 'Jun-12': 8.0, 'Jul-12': 7.9, 'Aug-12': 7.8, 'Sep-12': 7.7, 'Oct-12': 7.7, 'Nov-12': 7.6, 'Dec-12': 7.5, 'Jan-13': 7.4, 'Feb-13': 7.3, 'Mar-13': 7.2, 'Apr-13': 7.1, 'May-13': 7.1, 'Jun-13': 7.0, 'Jul-13': 6.9, 'Aug-13': 6.8, 'Sep-13': 6.6, 'Oct-13': 6.4, 'Nov-13': 6.3, 'Dec-13': 6.1, 'Jan-14': 6.0, 'Feb-14': 5.8, 'Mar-14': 5.6, 'Apr-14': 5.4, 'May-14': 5.2, 'Jun-14': 5.0, 'Jul-14': 4.8, 'Aug-14': 4.6, 'Sep-14': 4.5, 'Oct-14': 4.4, 'Nov-14': 4.3, 'Dec-14': 4.3, 'Jan-15': 4.3, 'Feb-15': 4.2, 'Mar-15': 4.2, 'Apr-15': 4.1, 'May-15': 4.1, 'Jun-15': 4.0, 'Jul-15': 3.8, 'Aug-15': 3.7, 'Sep-15': 3.6, 'Oct-15': 3.6, 'Nov-15': 3.5, 'Dec-15': 3.5, 'Jan-16': 3.5, 'Feb-16': 3.5, 'Mar-16': 3.5, 'Apr-16': 3.5, 'May-16': 3.4, 'Jun-16': 3.4, 'Jul-16': 3.3, 'Aug-16': 3.3, 'Sep-16': 3.2, 'Oct-16': 3.1, 'Nov-16': 3.0, 'Dec-16': 2.9, 'Jan-17': 2.8, 'Feb-17': 2.7, 'Mar-17': 2.7, 'Apr-17': 2.7, 'May-17': 2.7, 'Jun-17': 2.7, 'Jul-17': 2.8, 'Aug-17': 2.8, 'Sep-17': 2.9, 'Oct-17': 2.9, 'Nov-17': 2.9, 'Dec-17': 2.9, 'Jan-18': 3.0, 'Feb-18': 3.0, 'Mar-18': 3.0, 'Apr-18': 3.1, 'May-18': 3.1, 'Jun-18': 3.2, 'Jul-18': 3.2, 'Aug-18': 3.2, 'Sep-18': 3.3, 'Oct-18': 3.3, 'Nov-18': 3.3, 'Dec-18': 3.2, 'Jan-19': 3.2, 'Feb-19': 3.1, 'Mar-19': 3.0, 'Apr-19': 2.9, 'May-19': 2.8, 'Jun-19': 2.7, 'Jul-19': 2.7, 'Aug-19': 2.6, 'Sep-19': 2.6, 'Oct-19': 2.5, 'Nov-19': 2.5, 'Dec-19': 2.5, 'Jan-20': 2.5, 'Feb-20': 2.5, 'Mar-20': '5.2', 'Apr-20': '12.2', 'May-20': 10.2, 'Jun-20': 10.6, 'Jul-20': 7.4, 'Aug-20': 6.7, 'Sep-20': 6.4, 'Oct-20': 6.4}, {'State': 'Connecticut', 'Oct-10': 9.2, 'Nov-10': 9.3, 'Dec-10': 9.3, 'Jan-11': 9.2, 'Feb-11': 9.2, 'Mar-11': 9.2, 'Apr-11': 9.1, 'May-11': 9.0, 'Jun-11': 8.9, 'Jul-11': 8.8, 'Aug-11': 8.7, 'Sep-11': 8.6, 'Oct-11': 8.5, 'Nov-11': 8.4, 'Dec-11': 8.3, 'Jan-12': 8.2, 'Feb-12': 8.2, 'Mar-12': 8.3, 'Apr-12': 8.3, 'May-12': 8.4, 'Jun-12': 8.5, 'Jul-12': 8.5, 'Aug-12': 8.5, 'Sep-12': 8.4, 'Oct-12': 8.4, 'Nov-12': 8.3, 'Dec-12': 8.2, 'Jan-13': 8.2, 'Feb-13': 8.1, 'Mar-13': 8.1, 'Apr-13': 8.0, 'May-13': 7.9, 'Jun-13': 7.9, 'Jul-13': 7.8, 'Aug-13': 7.8, 'Sep-13': 7.7, 'Oct-13': 7.5, 'Nov-13': 7.4, 'Dec-13': 7.3, 'Jan-14': 7.2, 'Feb-14': 7.0, 'Mar-14': 6.9, 'Apr-14': 6.8, 'May-14': 6.7, 'Jun-14': 6.6, 'Jul-14': 6.5, 'Aug-14': 6.5, 'Sep-14': 6.4, 'Oct-14': 6.4, 'Nov-14': 6.3, 'Dec-14': 6.2, 'Jan-15': 6.1, 'Feb-15': 6.0, 'Mar-15': 5.9, 'Apr-15': 5.8, 'May-15': 5.7, 'Jun-15': 5.7, 'Jul-15': 5.6, 'Aug-15': 5.6, 'Sep-15': 5.6, 'Oct-15': 5.6, 'Nov-15': 5.6, 'Dec-15': 5.5, 'Jan-16': 5.5, 'Feb-16': 5.4, 'Mar-16': 5.4, 'Apr-16': 5.3, 'May-16': 5.3, 'Jun-16': 5.2, 'Jul-16': 5.2, 'Aug-16': 5.1, 'Sep-16': 5.0, 'Oct-16': 4.9, 'Nov-16': 4.9, 'Dec-16': 4.8, 'Jan-17': 4.8, 'Feb-17': 4.8, 'Mar-17': 4.8, 'Apr-17': 4.8, 'May-17': 4.8, 'Jun-17': 4.7, 'Jul-17': 4.7, 'Aug-17': 4.6, 'Sep-17': 4.6, 'Oct-17': 4.6, 'Nov-17': 4.6, 'Dec-17': 4.6, 'Jan-18': 4.5, 'Feb-18': 4.5, 'Mar-18': 4.4, 'Apr-18': 4.3, 'May-18': 4.2, 'Jun-18': 4.2, 'Jul-18': 4.1, 'Aug-18': 4.0, 'Sep-18': 4.0, 'Oct-18': 3.9, 'Nov-18': 3.9, 'Dec-18': 3.9, 'Jan-19': 3.8, 'Feb-19': 3.8, 'Mar-19': 3.7, 'Apr-19': 3.7, 'May-19': 3.7, 'Jun-19': 3.7, 'Jul-19': 3.7, 'Aug-19': 3.7, 'Sep-19': 3.7, 'Oct-19': 3.8, 'Nov-19': 3.8, 'Dec-19': 3.8, 'Jan-20': 3.7, 'Feb-20': 3.8, 'Mar-20': '3.4', 'Apr-20': '8.3', 'May-20': 9.6, 'Jun-20': 10.1, 'Jul-20': 10.2, 'Aug-20': 8.1, 'Sep-20': 7.7, 'Oct-20': 6.1}, {'State': 'Delaware', 'Oct-10': 8.2, 'Nov-10': 8.1, 'Dec-10': 8.0, 'Jan-11': 7.9, 'Feb-11': 7.8, 'Mar-11': 7.7, 'Apr-11': 7.6, 'May-11': 7.5, 'Jun-11': 7.5, 'Jul-11': 7.5, 'Aug-11': 7.4, 'Sep-11': 7.4, 'Oct-11': 7.3, 'Nov-11': 7.2, 'Dec-11': 7.2, 'Jan-12': 7.1, 'Feb-12': 7.1, 'Mar-12': 7.1, 'Apr-12': 7.2, 'May-12': 7.2, 'Jun-12': 7.2, 'Jul-12': 7.2, 'Aug-12': 7.3, 'Sep-12': 7.3, 'Oct-12': 7.3, 'Nov-12': 7.3, 'Dec-12': 7.2, 'Jan-13': 7.2, 'Feb-13': 7.1, 'Mar-13': 7.1, 'Apr-13': 7.0, 'May-13': 6.9, 'Jun-13': 6.8, 'Jul-13': 6.6, 'Aug-13': 6.5, 'Sep-13': 6.4, 'Oct-13': 6.3, 'Nov-13': 6.2, 'Dec-13': 6.2, 'Jan-14': 6.1, 'Feb-14': 6.1, 'Mar-14': 6.0, 'Apr-14': 6.0, 'May-14': 5.9, 'Jun-14': 5.8, 'Jul-14': 5.7, 'Aug-14': 5.6, 'Sep-14': 5.5, 'Oct-14': 5.4, 'Nov-14': 5.3, 'Dec-14': 5.2, 'Jan-15': 5.1, 'Feb-15': 5.0, 'Mar-15': 5.0, 'Apr-15': 4.9, 'May-15': 4.9, 'Jun-15': 4.9, 'Jul-15': 4.8, 'Aug-15': 4.8, 'Sep-15': 4.8, 'Oct-15': 4.7, 'Nov-15': 4.7, 'Dec-15': 4.7, 'Jan-16': 4.6, 'Feb-16': 4.6, 'Mar-16': 4.5, 'Apr-16': 4.5, 'May-16': 4.5, 'Jun-16': 4.5, 'Jul-16': 4.5, 'Aug-16': 4.5, 'Sep-16': 4.5, 'Oct-16': 4.5, 'Nov-16': 4.5, 'Dec-16': 4.6, 'Jan-17': 4.6, 'Feb-17': 4.6, 'Mar-17': 4.6, 'Apr-17': 4.6, 'May-17': 4.6, 'Jun-17': 4.5, 'Jul-17': 4.5, 'Aug-17': 4.4, 'Sep-17': 4.4, 'Oct-17': 4.3, 'Nov-17': 4.3, 'Dec-17': 4.2, 'Jan-18': 4.1, 'Feb-18': 4.1, 'Mar-18': 4.0, 'Apr-18': 3.9, 'May-18': 3.9, 'Jun-18': 3.8, 'Jul-18': 3.7, 'Aug-18': 3.7, 'Sep-18': 3.6, 'Oct-18': 3.6, 'Nov-18': 3.5, 'Dec-18': 3.5, 'Jan-19': 3.5, 'Feb-19': 3.5, 'Mar-19': 3.6, 'Apr-19': 3.6, 'May-19': 3.7, 'Jun-19': 3.7, 'Jul-19': 3.8, 'Aug-19': 3.9, 'Sep-19': 3.9, 'Oct-19': 4.0, 'Nov-19': 4.0, 'Dec-19': 4.0, 'Jan-20': 4.0, 'Feb-20': 3.9, 'Mar-20': '5', 'Apr-20': '14.9', 'May-20': 15.9, 'Jun-20': 12.6, 'Jul-20': 10.5, 'Aug-20': 8.9, 'Sep-20': 8.3, 'Oct-20': 5.6}  ... displaying 10 of 52 total bound parameter sets ...  {'State': 'Wyoming', 'Oct-10': 6.1, 'Nov-10': 6.1, 'Dec-10': 6.2, 'Jan-11': 6.1, 'Feb-11': 6.1, 'Mar-11': 6.0, 'Apr-11': 5.9, 'May-11': 5.8, 'Jun-11': 5.7, 'Jul-11': 5.7, 'Aug-11': 5.6, 'Sep-11': 5.7, 'Oct-11': 5.7, 'Nov-11': 5.6, 'Dec-11': 5.6, 'Jan-12': 5.5, 'Feb-12': 5.4, 'Mar-12': 5.3, 'Apr-12': 5.3, 'May-12': 5.3, 'Jun-12': 5.3, 'Jul-12': 5.3, 'Aug-12': 5.4, 'Sep-12': 5.3, 'Oct-12': 5.3, 'Nov-12': 5.2, 'Dec-12': 5.1, 'Jan-13': 5.1, 'Feb-13': 5.0, 'Mar-13': 4.9, 'Apr-13': 4.8, 'May-13': 4.7, 'Jun-13': 4.7, 'Jul-13': 4.6, 'Aug-13': 4.6, 'Sep-13': 4.6, 'Oct-13': 4.6, 'Nov-13': 4.5, 'Dec-13': 4.5, 'Jan-14': 4.4, 'Feb-14': 4.3, 'Mar-14': 4.2, 'Apr-14': 4.2, 'May-14': 4.1, 'Jun-14': 4.1, 'Jul-14': 4.1, 'Aug-14': 4.1, 'Sep-14': 4.1, 'Oct-14': 4.1, 'Nov-14': 4.0, 'Dec-14': 3.9, 'Jan-15': 3.9, 'Feb-15': 4.0, 'Mar-15': 4.1, 'Apr-15': 4.2, 'May-15': 4.3, 'Jun-15': 4.3, 'Jul-15': 4.4, 'Aug-15': 4.4, 'Sep-15': 4.4, 'Oct-15': 4.5, 'Nov-15': 4.6, 'Dec-15': 4.9, 'Jan-16': 5.1, 'Feb-16': 5.4, 'Mar-16': 5.6, 'Apr-16': 5.7, 'May-16': 5.7, 'Jun-16': 5.6, 'Jul-16': 5.5, 'Aug-16': 5.3, 'Sep-16': 5.2, 'Oct-16': 5.0, 'Nov-16': 4.9, 'Dec-16': 4.8, 'Jan-17': 4.6, 'Feb-17': 4.4, 'Mar-17': 4.3, 'Apr-17': 4.1, 'May-17': 4.1, 'Jun-17': 4.0, 'Jul-17': 4.1, 'Aug-17': 4.1, 'Sep-17': 4.1, 'Oct-17': 4.1, 'Nov-17': 4.1, 'Dec-17': 4.0, 'Jan-18': 4.0, 'Feb-18': 4.0, 'Mar-18': 3.9, 'Apr-18': 3.9, 'May-18': 3.9, 'Jun-18': 3.9, 'Jul-18': 3.9, 'Aug-18': 3.9, 'Sep-18': 3.9, 'Oct-18': 3.8, 'Nov-18': 3.7, 'Dec-18': 3.6, 'Jan-19': 3.5, 'Feb-19': 3.5, 'Mar-19': 3.4, 'Apr-19': 3.5, 'May-19': 3.5, 'Jun-19': 3.6, 'Jul-19': 3.7, 'Aug-19': 3.7, 'Sep-19': 3.7, 'Oct-19': 3.7, 'Nov-19': 3.7, 'Dec-19': 3.7, 'Jan-20': 3.7, 'Feb-20': 3.7, 'Mar-20': '3.8', 'Apr-20': '9.6', 'May-20': 8.8, 'Jun-20': 7.6, 'Jul-20': 7.1, 'Aug-20': 6.6, 'Sep-20': 6.1, 'Oct-20': 5.5}, {'State': 'Puerto Rico', 'Oct-10': 15.8, 'Nov-10': 15.8, 'Dec-10': 16.0, 'Jan-11': 16.2, 'Feb-11': 16.4, 'Mar-11': 16.5, 'Apr-11': 16.5, 'May-11': 16.3, 'Jun-11': 16.1, 'Jul-11': 15.9, 'Aug-11': 15.7, 'Sep-11': 15.6, 'Oct-11': 15.5, 'Nov-11': 15.5, 'Dec-11': 15.4, 'Jan-12': 15.3, 'Feb-12': 15.1, 'Mar-12': 14.9, 'Apr-12': 14.7, 'May-12': 14.5, 'Jun-12': 14.2, 'Jul-12': 14.1, 'Aug-12': 14.0, 'Sep-12': 14.0, 'Oct-12': 14.2, 'Nov-12': 14.3, 'Dec-12': 14.3, 'Jan-13': 14.2, 'Feb-13': 14.1, 'Mar-13': 13.8, 'Apr-13': 13.7, 'May-13': 13.7, 'Jun-13': 13.8, 'Jul-13': 14.0, 'Aug-13': 14.3, 'Sep-13': 14.5, 'Oct-13': 14.8, 'Nov-13': 14.9, 'Dec-13': 15.0, 'Jan-14': 14.9, 'Feb-14': 14.6, 'Mar-14': 14.2, 'Apr-14': 13.8, 'May-14': 13.6, 'Jun-14': 13.6, 'Jul-14': 13.8, 'Aug-14': 14.0, 'Sep-14': 14.0, 'Oct-14': 13.7, 'Nov-14': 13.2, 'Dec-14': 12.6, 'Jan-15': 12.2, 'Feb-15': 12.0, 'Mar-15': 12.1, 'Apr-15': 12.1, 'May-15': 12.1, 'Jun-15': 12.1, 'Jul-15': 12.1, 'Aug-15': 12.1, 'Sep-15': 12.0, 'Oct-15': 12.0, 'Nov-15': 12.0, 'Dec-15': 11.9, 'Jan-16': 11.7, 'Feb-16': 11.6, 'Mar-16': 11.5, 'Apr-16': 11.5, 'May-16': 11.6, 'Jun-16': 11.6, 'Jul-16': 11.7, 'Aug-16': 11.8, 'Sep-16': 12.0, 'Oct-16': 12.1, 'Nov-16': 12.0, 'Dec-16': 11.9, 'Jan-17': 11.8, 'Feb-17': 11.5, 'Mar-17': 11.2, 'Apr-17': 10.9, 'May-17': 10.6, 'Jun-17': 10.4, 'Jul-17': 10.4, 'Aug-17': 10.5, 'Sep-17': 10.7, 'Oct-17': 11.3, 'Nov-17': 10.9, 'Dec-17': 10.7, 'Jan-18': 10.5, 'Feb-18': 10.2, 'Mar-18': 10.0, 'Apr-18': 9.7, 'May-18': 9.5, 'Jun-18': 9.2, 'Jul-18': 8.9, 'Aug-18': 8.6, 'Sep-18': 8.4, 'Oct-18': 8.3, 'Nov-18': 8.3, 'Dec-18': 8.5, 'Jan-19': 8.6, 'Feb-19': 8.7, 'Mar-19': 8.6, 'Apr-19': 8.4, 'May-19': 8.0, 'Jun-19': 7.7, 'Jul-19': 7.5, 'Aug-19': 7.6, 'Sep-19': 7.9, 'Oct-19': 8.3, 'Nov-19': 8.5, 'Dec-19': 8.5, 'Jan-20': 8.9, 'Feb-20': 8.8, 'Mar-20': '-', 'Apr-20': '-', 'May-20': 9.0, 'Jun-20': 8.9, 'Jul-20': 8.5, 'Aug-20': 8.3, 'Sep-20': 8.4, 'Oct-20': 8.3})]\n(Background on this error at: http://sqlalche.me/e/13/f405)",
     "output_type": "error",
     "traceback": [
      "\u001b[1;31m---------------------------------------------------------------------------\u001b[0m",
      "\u001b[1;31mUndefinedColumn\u001b[0m                           Traceback (most recent call last)",
      "\u001b[1;32m~\\anaconda3\\lib\\site-packages\\sqlalchemy\\engine\\base.py\u001b[0m in \u001b[0;36m_execute_context\u001b[1;34m(self, dialect, constructor, statement, parameters, *args)\u001b[0m\n\u001b[0;32m   1256\u001b[0m                 \u001b[1;32mif\u001b[0m \u001b[1;32mnot\u001b[0m \u001b[0mevt_handled\u001b[0m\u001b[1;33m:\u001b[0m\u001b[1;33m\u001b[0m\u001b[1;33m\u001b[0m\u001b[0m\n\u001b[1;32m-> 1257\u001b[1;33m                     self.dialect.do_executemany(\n\u001b[0m\u001b[0;32m   1258\u001b[0m                         \u001b[0mcursor\u001b[0m\u001b[1;33m,\u001b[0m \u001b[0mstatement\u001b[0m\u001b[1;33m,\u001b[0m \u001b[0mparameters\u001b[0m\u001b[1;33m,\u001b[0m \u001b[0mcontext\u001b[0m\u001b[1;33m\u001b[0m\u001b[1;33m\u001b[0m\u001b[0m\n",
      "\u001b[1;32m~\\anaconda3\\lib\\site-packages\\sqlalchemy\\dialects\\postgresql\\psycopg2.py\u001b[0m in \u001b[0;36mdo_executemany\u001b[1;34m(self, cursor, statement, parameters, context)\u001b[0m\n\u001b[0;32m    872\u001b[0m         \u001b[1;32mif\u001b[0m \u001b[0mself\u001b[0m\u001b[1;33m.\u001b[0m\u001b[0mexecutemany_mode\u001b[0m \u001b[1;32mis\u001b[0m \u001b[0mEXECUTEMANY_DEFAULT\u001b[0m\u001b[1;33m:\u001b[0m\u001b[1;33m\u001b[0m\u001b[1;33m\u001b[0m\u001b[0m\n\u001b[1;32m--> 873\u001b[1;33m             \u001b[0mcursor\u001b[0m\u001b[1;33m.\u001b[0m\u001b[0mexecutemany\u001b[0m\u001b[1;33m(\u001b[0m\u001b[0mstatement\u001b[0m\u001b[1;33m,\u001b[0m \u001b[0mparameters\u001b[0m\u001b[1;33m)\u001b[0m\u001b[1;33m\u001b[0m\u001b[1;33m\u001b[0m\u001b[0m\n\u001b[0m\u001b[0;32m    874\u001b[0m             \u001b[1;32mreturn\u001b[0m\u001b[1;33m\u001b[0m\u001b[1;33m\u001b[0m\u001b[0m\n",
      "\u001b[1;31mUndefinedColumn\u001b[0m: column \"Oct-10\" of relation \"states\" does not exist\nLINE 1: INSERT INTO states (\"State\", \"Oct-10\", \"Nov-10\", \"Dec-10\", \"...\n                                     ^\n",
      "\nThe above exception was the direct cause of the following exception:\n",
      "\u001b[1;31mProgrammingError\u001b[0m                          Traceback (most recent call last)",
      "\u001b[1;32m<ipython-input-20-2794514005aa>\u001b[0m in \u001b[0;36m<module>\u001b[1;34m\u001b[0m\n\u001b[1;32m----> 1\u001b[1;33m \u001b[0mstate_unemployment_df\u001b[0m\u001b[1;33m.\u001b[0m\u001b[0mto_sql\u001b[0m\u001b[1;33m(\u001b[0m\u001b[0mname\u001b[0m\u001b[1;33m=\u001b[0m\u001b[1;34m'states'\u001b[0m\u001b[1;33m,\u001b[0m \u001b[0mcon\u001b[0m\u001b[1;33m=\u001b[0m\u001b[0mengine\u001b[0m\u001b[1;33m,\u001b[0m \u001b[0mif_exists\u001b[0m\u001b[1;33m=\u001b[0m\u001b[1;34m'append'\u001b[0m\u001b[1;33m,\u001b[0m \u001b[0mindex\u001b[0m\u001b[1;33m=\u001b[0m\u001b[1;32mFalse\u001b[0m\u001b[1;33m)\u001b[0m\u001b[1;33m\u001b[0m\u001b[1;33m\u001b[0m\u001b[0m\n\u001b[0m",
      "\u001b[1;32m~\\anaconda3\\lib\\site-packages\\pandas\\core\\generic.py\u001b[0m in \u001b[0;36mto_sql\u001b[1;34m(self, name, con, schema, if_exists, index, index_label, chunksize, dtype, method)\u001b[0m\n\u001b[0;32m   2651\u001b[0m         \u001b[1;32mfrom\u001b[0m \u001b[0mpandas\u001b[0m\u001b[1;33m.\u001b[0m\u001b[0mio\u001b[0m \u001b[1;32mimport\u001b[0m \u001b[0msql\u001b[0m\u001b[1;33m\u001b[0m\u001b[1;33m\u001b[0m\u001b[0m\n\u001b[0;32m   2652\u001b[0m \u001b[1;33m\u001b[0m\u001b[0m\n\u001b[1;32m-> 2653\u001b[1;33m         sql.to_sql(\n\u001b[0m\u001b[0;32m   2654\u001b[0m             \u001b[0mself\u001b[0m\u001b[1;33m,\u001b[0m\u001b[1;33m\u001b[0m\u001b[1;33m\u001b[0m\u001b[0m\n\u001b[0;32m   2655\u001b[0m             \u001b[0mname\u001b[0m\u001b[1;33m,\u001b[0m\u001b[1;33m\u001b[0m\u001b[1;33m\u001b[0m\u001b[0m\n",
      "\u001b[1;32m~\\anaconda3\\lib\\site-packages\\pandas\\io\\sql.py\u001b[0m in \u001b[0;36mto_sql\u001b[1;34m(frame, name, con, schema, if_exists, index, index_label, chunksize, dtype, method)\u001b[0m\n\u001b[0;32m    510\u001b[0m         )\n\u001b[0;32m    511\u001b[0m \u001b[1;33m\u001b[0m\u001b[0m\n\u001b[1;32m--> 512\u001b[1;33m     pandas_sql.to_sql(\n\u001b[0m\u001b[0;32m    513\u001b[0m         \u001b[0mframe\u001b[0m\u001b[1;33m,\u001b[0m\u001b[1;33m\u001b[0m\u001b[1;33m\u001b[0m\u001b[0m\n\u001b[0;32m    514\u001b[0m         \u001b[0mname\u001b[0m\u001b[1;33m,\u001b[0m\u001b[1;33m\u001b[0m\u001b[1;33m\u001b[0m\u001b[0m\n",
      "\u001b[1;32m~\\anaconda3\\lib\\site-packages\\pandas\\io\\sql.py\u001b[0m in \u001b[0;36mto_sql\u001b[1;34m(self, frame, name, if_exists, index, index_label, schema, chunksize, dtype, method)\u001b[0m\n\u001b[0;32m   1315\u001b[0m         )\n\u001b[0;32m   1316\u001b[0m         \u001b[0mtable\u001b[0m\u001b[1;33m.\u001b[0m\u001b[0mcreate\u001b[0m\u001b[1;33m(\u001b[0m\u001b[1;33m)\u001b[0m\u001b[1;33m\u001b[0m\u001b[1;33m\u001b[0m\u001b[0m\n\u001b[1;32m-> 1317\u001b[1;33m         \u001b[0mtable\u001b[0m\u001b[1;33m.\u001b[0m\u001b[0minsert\u001b[0m\u001b[1;33m(\u001b[0m\u001b[0mchunksize\u001b[0m\u001b[1;33m,\u001b[0m \u001b[0mmethod\u001b[0m\u001b[1;33m=\u001b[0m\u001b[0mmethod\u001b[0m\u001b[1;33m)\u001b[0m\u001b[1;33m\u001b[0m\u001b[1;33m\u001b[0m\u001b[0m\n\u001b[0m\u001b[0;32m   1318\u001b[0m         \u001b[1;32mif\u001b[0m \u001b[1;32mnot\u001b[0m \u001b[0mname\u001b[0m\u001b[1;33m.\u001b[0m\u001b[0misdigit\u001b[0m\u001b[1;33m(\u001b[0m\u001b[1;33m)\u001b[0m \u001b[1;32mand\u001b[0m \u001b[1;32mnot\u001b[0m \u001b[0mname\u001b[0m\u001b[1;33m.\u001b[0m\u001b[0mislower\u001b[0m\u001b[1;33m(\u001b[0m\u001b[1;33m)\u001b[0m\u001b[1;33m:\u001b[0m\u001b[1;33m\u001b[0m\u001b[1;33m\u001b[0m\u001b[0m\n\u001b[0;32m   1319\u001b[0m             \u001b[1;31m# check for potentially case sensitivity issues (GH7815)\u001b[0m\u001b[1;33m\u001b[0m\u001b[1;33m\u001b[0m\u001b[1;33m\u001b[0m\u001b[0m\n",
      "\u001b[1;32m~\\anaconda3\\lib\\site-packages\\pandas\\io\\sql.py\u001b[0m in \u001b[0;36minsert\u001b[1;34m(self, chunksize, method)\u001b[0m\n\u001b[0;32m    753\u001b[0m \u001b[1;33m\u001b[0m\u001b[0m\n\u001b[0;32m    754\u001b[0m                 \u001b[0mchunk_iter\u001b[0m \u001b[1;33m=\u001b[0m \u001b[0mzip\u001b[0m\u001b[1;33m(\u001b[0m\u001b[1;33m*\u001b[0m\u001b[1;33m[\u001b[0m\u001b[0marr\u001b[0m\u001b[1;33m[\u001b[0m\u001b[0mstart_i\u001b[0m\u001b[1;33m:\u001b[0m\u001b[0mend_i\u001b[0m\u001b[1;33m]\u001b[0m \u001b[1;32mfor\u001b[0m \u001b[0marr\u001b[0m \u001b[1;32min\u001b[0m \u001b[0mdata_list\u001b[0m\u001b[1;33m]\u001b[0m\u001b[1;33m)\u001b[0m\u001b[1;33m\u001b[0m\u001b[1;33m\u001b[0m\u001b[0m\n\u001b[1;32m--> 755\u001b[1;33m                 \u001b[0mexec_insert\u001b[0m\u001b[1;33m(\u001b[0m\u001b[0mconn\u001b[0m\u001b[1;33m,\u001b[0m \u001b[0mkeys\u001b[0m\u001b[1;33m,\u001b[0m \u001b[0mchunk_iter\u001b[0m\u001b[1;33m)\u001b[0m\u001b[1;33m\u001b[0m\u001b[1;33m\u001b[0m\u001b[0m\n\u001b[0m\u001b[0;32m    756\u001b[0m \u001b[1;33m\u001b[0m\u001b[0m\n\u001b[0;32m    757\u001b[0m     def _query_iterator(\n",
      "\u001b[1;32m~\\anaconda3\\lib\\site-packages\\pandas\\io\\sql.py\u001b[0m in \u001b[0;36m_execute_insert\u001b[1;34m(self, conn, keys, data_iter)\u001b[0m\n\u001b[0;32m    667\u001b[0m         \"\"\"\n\u001b[0;32m    668\u001b[0m         \u001b[0mdata\u001b[0m \u001b[1;33m=\u001b[0m \u001b[1;33m[\u001b[0m\u001b[0mdict\u001b[0m\u001b[1;33m(\u001b[0m\u001b[0mzip\u001b[0m\u001b[1;33m(\u001b[0m\u001b[0mkeys\u001b[0m\u001b[1;33m,\u001b[0m \u001b[0mrow\u001b[0m\u001b[1;33m)\u001b[0m\u001b[1;33m)\u001b[0m \u001b[1;32mfor\u001b[0m \u001b[0mrow\u001b[0m \u001b[1;32min\u001b[0m \u001b[0mdata_iter\u001b[0m\u001b[1;33m]\u001b[0m\u001b[1;33m\u001b[0m\u001b[1;33m\u001b[0m\u001b[0m\n\u001b[1;32m--> 669\u001b[1;33m         \u001b[0mconn\u001b[0m\u001b[1;33m.\u001b[0m\u001b[0mexecute\u001b[0m\u001b[1;33m(\u001b[0m\u001b[0mself\u001b[0m\u001b[1;33m.\u001b[0m\u001b[0mtable\u001b[0m\u001b[1;33m.\u001b[0m\u001b[0minsert\u001b[0m\u001b[1;33m(\u001b[0m\u001b[1;33m)\u001b[0m\u001b[1;33m,\u001b[0m \u001b[0mdata\u001b[0m\u001b[1;33m)\u001b[0m\u001b[1;33m\u001b[0m\u001b[1;33m\u001b[0m\u001b[0m\n\u001b[0m\u001b[0;32m    670\u001b[0m \u001b[1;33m\u001b[0m\u001b[0m\n\u001b[0;32m    671\u001b[0m     \u001b[1;32mdef\u001b[0m \u001b[0m_execute_insert_multi\u001b[0m\u001b[1;33m(\u001b[0m\u001b[0mself\u001b[0m\u001b[1;33m,\u001b[0m \u001b[0mconn\u001b[0m\u001b[1;33m,\u001b[0m \u001b[0mkeys\u001b[0m\u001b[1;33m,\u001b[0m \u001b[0mdata_iter\u001b[0m\u001b[1;33m)\u001b[0m\u001b[1;33m:\u001b[0m\u001b[1;33m\u001b[0m\u001b[1;33m\u001b[0m\u001b[0m\n",
      "\u001b[1;32m~\\anaconda3\\lib\\site-packages\\sqlalchemy\\engine\\base.py\u001b[0m in \u001b[0;36mexecute\u001b[1;34m(self, object_, *multiparams, **params)\u001b[0m\n\u001b[0;32m   1012\u001b[0m             )\n\u001b[0;32m   1013\u001b[0m         \u001b[1;32melse\u001b[0m\u001b[1;33m:\u001b[0m\u001b[1;33m\u001b[0m\u001b[1;33m\u001b[0m\u001b[0m\n\u001b[1;32m-> 1014\u001b[1;33m             \u001b[1;32mreturn\u001b[0m \u001b[0mmeth\u001b[0m\u001b[1;33m(\u001b[0m\u001b[0mself\u001b[0m\u001b[1;33m,\u001b[0m \u001b[0mmultiparams\u001b[0m\u001b[1;33m,\u001b[0m \u001b[0mparams\u001b[0m\u001b[1;33m)\u001b[0m\u001b[1;33m\u001b[0m\u001b[1;33m\u001b[0m\u001b[0m\n\u001b[0m\u001b[0;32m   1015\u001b[0m \u001b[1;33m\u001b[0m\u001b[0m\n\u001b[0;32m   1016\u001b[0m     \u001b[1;32mdef\u001b[0m \u001b[0m_execute_function\u001b[0m\u001b[1;33m(\u001b[0m\u001b[0mself\u001b[0m\u001b[1;33m,\u001b[0m \u001b[0mfunc\u001b[0m\u001b[1;33m,\u001b[0m \u001b[0mmultiparams\u001b[0m\u001b[1;33m,\u001b[0m \u001b[0mparams\u001b[0m\u001b[1;33m)\u001b[0m\u001b[1;33m:\u001b[0m\u001b[1;33m\u001b[0m\u001b[1;33m\u001b[0m\u001b[0m\n",
      "\u001b[1;32m~\\anaconda3\\lib\\site-packages\\sqlalchemy\\sql\\elements.py\u001b[0m in \u001b[0;36m_execute_on_connection\u001b[1;34m(self, connection, multiparams, params)\u001b[0m\n\u001b[0;32m    296\u001b[0m     \u001b[1;32mdef\u001b[0m \u001b[0m_execute_on_connection\u001b[0m\u001b[1;33m(\u001b[0m\u001b[0mself\u001b[0m\u001b[1;33m,\u001b[0m \u001b[0mconnection\u001b[0m\u001b[1;33m,\u001b[0m \u001b[0mmultiparams\u001b[0m\u001b[1;33m,\u001b[0m \u001b[0mparams\u001b[0m\u001b[1;33m)\u001b[0m\u001b[1;33m:\u001b[0m\u001b[1;33m\u001b[0m\u001b[1;33m\u001b[0m\u001b[0m\n\u001b[0;32m    297\u001b[0m         \u001b[1;32mif\u001b[0m \u001b[0mself\u001b[0m\u001b[1;33m.\u001b[0m\u001b[0msupports_execution\u001b[0m\u001b[1;33m:\u001b[0m\u001b[1;33m\u001b[0m\u001b[1;33m\u001b[0m\u001b[0m\n\u001b[1;32m--> 298\u001b[1;33m             \u001b[1;32mreturn\u001b[0m \u001b[0mconnection\u001b[0m\u001b[1;33m.\u001b[0m\u001b[0m_execute_clauseelement\u001b[0m\u001b[1;33m(\u001b[0m\u001b[0mself\u001b[0m\u001b[1;33m,\u001b[0m \u001b[0mmultiparams\u001b[0m\u001b[1;33m,\u001b[0m \u001b[0mparams\u001b[0m\u001b[1;33m)\u001b[0m\u001b[1;33m\u001b[0m\u001b[1;33m\u001b[0m\u001b[0m\n\u001b[0m\u001b[0;32m    299\u001b[0m         \u001b[1;32melse\u001b[0m\u001b[1;33m:\u001b[0m\u001b[1;33m\u001b[0m\u001b[1;33m\u001b[0m\u001b[0m\n\u001b[0;32m    300\u001b[0m             \u001b[1;32mraise\u001b[0m \u001b[0mexc\u001b[0m\u001b[1;33m.\u001b[0m\u001b[0mObjectNotExecutableError\u001b[0m\u001b[1;33m(\u001b[0m\u001b[0mself\u001b[0m\u001b[1;33m)\u001b[0m\u001b[1;33m\u001b[0m\u001b[1;33m\u001b[0m\u001b[0m\n",
      "\u001b[1;32m~\\anaconda3\\lib\\site-packages\\sqlalchemy\\engine\\base.py\u001b[0m in \u001b[0;36m_execute_clauseelement\u001b[1;34m(self, elem, multiparams, params)\u001b[0m\n\u001b[0;32m   1125\u001b[0m             )\n\u001b[0;32m   1126\u001b[0m \u001b[1;33m\u001b[0m\u001b[0m\n\u001b[1;32m-> 1127\u001b[1;33m         ret = self._execute_context(\n\u001b[0m\u001b[0;32m   1128\u001b[0m             \u001b[0mdialect\u001b[0m\u001b[1;33m,\u001b[0m\u001b[1;33m\u001b[0m\u001b[1;33m\u001b[0m\u001b[0m\n\u001b[0;32m   1129\u001b[0m             \u001b[0mdialect\u001b[0m\u001b[1;33m.\u001b[0m\u001b[0mexecution_ctx_cls\u001b[0m\u001b[1;33m.\u001b[0m\u001b[0m_init_compiled\u001b[0m\u001b[1;33m,\u001b[0m\u001b[1;33m\u001b[0m\u001b[1;33m\u001b[0m\u001b[0m\n",
      "\u001b[1;32m~\\anaconda3\\lib\\site-packages\\sqlalchemy\\engine\\base.py\u001b[0m in \u001b[0;36m_execute_context\u001b[1;34m(self, dialect, constructor, statement, parameters, *args)\u001b[0m\n\u001b[0;32m   1315\u001b[0m \u001b[1;33m\u001b[0m\u001b[0m\n\u001b[0;32m   1316\u001b[0m         \u001b[1;32mexcept\u001b[0m \u001b[0mBaseException\u001b[0m \u001b[1;32mas\u001b[0m \u001b[0me\u001b[0m\u001b[1;33m:\u001b[0m\u001b[1;33m\u001b[0m\u001b[1;33m\u001b[0m\u001b[0m\n\u001b[1;32m-> 1317\u001b[1;33m             self._handle_dbapi_exception(\n\u001b[0m\u001b[0;32m   1318\u001b[0m                 \u001b[0me\u001b[0m\u001b[1;33m,\u001b[0m \u001b[0mstatement\u001b[0m\u001b[1;33m,\u001b[0m \u001b[0mparameters\u001b[0m\u001b[1;33m,\u001b[0m \u001b[0mcursor\u001b[0m\u001b[1;33m,\u001b[0m \u001b[0mcontext\u001b[0m\u001b[1;33m\u001b[0m\u001b[1;33m\u001b[0m\u001b[0m\n\u001b[0;32m   1319\u001b[0m             )\n",
      "\u001b[1;32m~\\anaconda3\\lib\\site-packages\\sqlalchemy\\engine\\base.py\u001b[0m in \u001b[0;36m_handle_dbapi_exception\u001b[1;34m(self, e, statement, parameters, cursor, context)\u001b[0m\n\u001b[0;32m   1509\u001b[0m                 \u001b[0mutil\u001b[0m\u001b[1;33m.\u001b[0m\u001b[0mraise_\u001b[0m\u001b[1;33m(\u001b[0m\u001b[0mnewraise\u001b[0m\u001b[1;33m,\u001b[0m \u001b[0mwith_traceback\u001b[0m\u001b[1;33m=\u001b[0m\u001b[0mexc_info\u001b[0m\u001b[1;33m[\u001b[0m\u001b[1;36m2\u001b[0m\u001b[1;33m]\u001b[0m\u001b[1;33m,\u001b[0m \u001b[0mfrom_\u001b[0m\u001b[1;33m=\u001b[0m\u001b[0me\u001b[0m\u001b[1;33m)\u001b[0m\u001b[1;33m\u001b[0m\u001b[1;33m\u001b[0m\u001b[0m\n\u001b[0;32m   1510\u001b[0m             \u001b[1;32melif\u001b[0m \u001b[0mshould_wrap\u001b[0m\u001b[1;33m:\u001b[0m\u001b[1;33m\u001b[0m\u001b[1;33m\u001b[0m\u001b[0m\n\u001b[1;32m-> 1511\u001b[1;33m                 util.raise_(\n\u001b[0m\u001b[0;32m   1512\u001b[0m                     \u001b[0msqlalchemy_exception\u001b[0m\u001b[1;33m,\u001b[0m \u001b[0mwith_traceback\u001b[0m\u001b[1;33m=\u001b[0m\u001b[0mexc_info\u001b[0m\u001b[1;33m[\u001b[0m\u001b[1;36m2\u001b[0m\u001b[1;33m]\u001b[0m\u001b[1;33m,\u001b[0m \u001b[0mfrom_\u001b[0m\u001b[1;33m=\u001b[0m\u001b[0me\u001b[0m\u001b[1;33m\u001b[0m\u001b[1;33m\u001b[0m\u001b[0m\n\u001b[0;32m   1513\u001b[0m                 )\n",
      "\u001b[1;32m~\\anaconda3\\lib\\site-packages\\sqlalchemy\\util\\compat.py\u001b[0m in \u001b[0;36mraise_\u001b[1;34m(***failed resolving arguments***)\u001b[0m\n\u001b[0;32m    176\u001b[0m \u001b[1;33m\u001b[0m\u001b[0m\n\u001b[0;32m    177\u001b[0m         \u001b[1;32mtry\u001b[0m\u001b[1;33m:\u001b[0m\u001b[1;33m\u001b[0m\u001b[1;33m\u001b[0m\u001b[0m\n\u001b[1;32m--> 178\u001b[1;33m             \u001b[1;32mraise\u001b[0m \u001b[0mexception\u001b[0m\u001b[1;33m\u001b[0m\u001b[1;33m\u001b[0m\u001b[0m\n\u001b[0m\u001b[0;32m    179\u001b[0m         \u001b[1;32mfinally\u001b[0m\u001b[1;33m:\u001b[0m\u001b[1;33m\u001b[0m\u001b[1;33m\u001b[0m\u001b[0m\n\u001b[0;32m    180\u001b[0m             \u001b[1;31m# credit to\u001b[0m\u001b[1;33m\u001b[0m\u001b[1;33m\u001b[0m\u001b[1;33m\u001b[0m\u001b[0m\n",
      "\u001b[1;32m~\\anaconda3\\lib\\site-packages\\sqlalchemy\\engine\\base.py\u001b[0m in \u001b[0;36m_execute_context\u001b[1;34m(self, dialect, constructor, statement, parameters, *args)\u001b[0m\n\u001b[0;32m   1255\u001b[0m                             \u001b[1;32mbreak\u001b[0m\u001b[1;33m\u001b[0m\u001b[1;33m\u001b[0m\u001b[0m\n\u001b[0;32m   1256\u001b[0m                 \u001b[1;32mif\u001b[0m \u001b[1;32mnot\u001b[0m \u001b[0mevt_handled\u001b[0m\u001b[1;33m:\u001b[0m\u001b[1;33m\u001b[0m\u001b[1;33m\u001b[0m\u001b[0m\n\u001b[1;32m-> 1257\u001b[1;33m                     self.dialect.do_executemany(\n\u001b[0m\u001b[0;32m   1258\u001b[0m                         \u001b[0mcursor\u001b[0m\u001b[1;33m,\u001b[0m \u001b[0mstatement\u001b[0m\u001b[1;33m,\u001b[0m \u001b[0mparameters\u001b[0m\u001b[1;33m,\u001b[0m \u001b[0mcontext\u001b[0m\u001b[1;33m\u001b[0m\u001b[1;33m\u001b[0m\u001b[0m\n\u001b[0;32m   1259\u001b[0m                     )\n",
      "\u001b[1;32m~\\anaconda3\\lib\\site-packages\\sqlalchemy\\dialects\\postgresql\\psycopg2.py\u001b[0m in \u001b[0;36mdo_executemany\u001b[1;34m(self, cursor, statement, parameters, context)\u001b[0m\n\u001b[0;32m    871\u001b[0m     \u001b[1;32mdef\u001b[0m \u001b[0mdo_executemany\u001b[0m\u001b[1;33m(\u001b[0m\u001b[0mself\u001b[0m\u001b[1;33m,\u001b[0m \u001b[0mcursor\u001b[0m\u001b[1;33m,\u001b[0m \u001b[0mstatement\u001b[0m\u001b[1;33m,\u001b[0m \u001b[0mparameters\u001b[0m\u001b[1;33m,\u001b[0m \u001b[0mcontext\u001b[0m\u001b[1;33m=\u001b[0m\u001b[1;32mNone\u001b[0m\u001b[1;33m)\u001b[0m\u001b[1;33m:\u001b[0m\u001b[1;33m\u001b[0m\u001b[1;33m\u001b[0m\u001b[0m\n\u001b[0;32m    872\u001b[0m         \u001b[1;32mif\u001b[0m \u001b[0mself\u001b[0m\u001b[1;33m.\u001b[0m\u001b[0mexecutemany_mode\u001b[0m \u001b[1;32mis\u001b[0m \u001b[0mEXECUTEMANY_DEFAULT\u001b[0m\u001b[1;33m:\u001b[0m\u001b[1;33m\u001b[0m\u001b[1;33m\u001b[0m\u001b[0m\n\u001b[1;32m--> 873\u001b[1;33m             \u001b[0mcursor\u001b[0m\u001b[1;33m.\u001b[0m\u001b[0mexecutemany\u001b[0m\u001b[1;33m(\u001b[0m\u001b[0mstatement\u001b[0m\u001b[1;33m,\u001b[0m \u001b[0mparameters\u001b[0m\u001b[1;33m)\u001b[0m\u001b[1;33m\u001b[0m\u001b[1;33m\u001b[0m\u001b[0m\n\u001b[0m\u001b[0;32m    874\u001b[0m             \u001b[1;32mreturn\u001b[0m\u001b[1;33m\u001b[0m\u001b[1;33m\u001b[0m\u001b[0m\n\u001b[0;32m    875\u001b[0m \u001b[1;33m\u001b[0m\u001b[0m\n",
      "\u001b[1;31mProgrammingError\u001b[0m: (psycopg2.errors.UndefinedColumn) column \"Oct-10\" of relation \"states\" does not exist\nLINE 1: INSERT INTO states (\"State\", \"Oct-10\", \"Nov-10\", \"Dec-10\", \"...\n                                     ^\n\n[SQL: INSERT INTO states (\"State\", \"Oct-10\", \"Nov-10\", \"Dec-10\", \"Jan-11\", \"Feb-11\", \"Mar-11\", \"Apr-11\", \"May-11\", \"Jun-11\", \"Jul-11\", \"Aug-11\", \"Sep-11\", \"Oct-11\", \"Nov-11\", \"Dec-11\", \"Jan-12\", \"Feb-12\", \"Mar-12\", \"Apr-12\", \"May-12\", \"Jun-12\", \"Jul-12\", \"Aug-12\", \"Sep-12\", \"Oct-12\", \"Nov-12\", \"Dec-12\", \"Jan-13\", \"Feb-13\", \"Mar-13\", \"Apr-13\", \"May-13\", \"Jun-13\", \"Jul-13\", \"Aug-13\", \"Sep-13\", \"Oct-13\", \"Nov-13\", \"Dec-13\", \"Jan-14\", \"Feb-14\", \"Mar-14\", \"Apr-14\", \"May-14\", \"Jun-14\", \"Jul-14\", \"Aug-14\", \"Sep-14\", \"Oct-14\", \"Nov-14\", \"Dec-14\", \"Jan-15\", \"Feb-15\", \"Mar-15\", \"Apr-15\", \"May-15\", \"Jun-15\", \"Jul-15\", \"Aug-15\", \"Sep-15\", \"Oct-15\", \"Nov-15\", \"Dec-15\", \"Jan-16\", \"Feb-16\", \"Mar-16\", \"Apr-16\", \"May-16\", \"Jun-16\", \"Jul-16\", \"Aug-16\", \"Sep-16\", \"Oct-16\", \"Nov-16\", \"Dec-16\", \"Jan-17\", \"Feb-17\", \"Mar-17\", \"Apr-17\", \"May-17\", \"Jun-17\", \"Jul-17\", \"Aug-17\", \"Sep-17\", \"Oct-17\", \"Nov-17\", \"Dec-17\", \"Jan-18\", \"Feb-18\", \"Mar-18\", \"Apr-18\", \"May-18\", \"Jun-18\", \"Jul-18\", \"Aug-18\", \"Sep-18\", \"Oct-18\", \"Nov-18\", \"Dec-18\", \"Jan-19\", \"Feb-19\", \"Mar-19\", \"Apr-19\", \"May-19\", \"Jun-19\", \"Jul-19\", \"Aug-19\", \"Sep-19\", \"Oct-19\", \"Nov-19\", \"Dec-19\", \"Jan-20\", \"Feb-20\", \"Mar-20\", \"Apr-20\", \"May-20\", \"Jun-20\", \"Jul-20\", \"Aug-20\", \"Sep-20\", \"Oct-20\") VALUES (%(State)s, %(Oct-10)s, %(Nov-10)s, %(Dec-10)s, %(Jan-11)s, %(Feb-11)s, %(Mar-11)s, %(Apr-11)s, %(May-11)s, %(Jun-11)s, %(Jul-11)s, %(Aug-11)s, %(Sep-11)s, %(Oct-11)s, %(Nov-11)s, %(Dec-11)s, %(Jan-12)s, %(Feb-12)s, %(Mar-12)s, %(Apr-12)s, %(May-12)s, %(Jun-12)s, %(Jul-12)s, %(Aug-12)s, %(Sep-12)s, %(Oct-12)s, %(Nov-12)s, %(Dec-12)s, %(Jan-13)s, %(Feb-13)s, %(Mar-13)s, %(Apr-13)s, %(May-13)s, %(Jun-13)s, %(Jul-13)s, %(Aug-13)s, %(Sep-13)s, %(Oct-13)s, %(Nov-13)s, %(Dec-13)s, %(Jan-14)s, %(Feb-14)s, %(Mar-14)s, %(Apr-14)s, %(May-14)s, %(Jun-14)s, %(Jul-14)s, %(Aug-14)s, %(Sep-14)s, %(Oct-14)s, %(Nov-14)s, %(Dec-14)s, %(Jan-15)s, %(Feb-15)s, %(Mar-15)s, %(Apr-15)s, %(May-15)s, %(Jun-15)s, %(Jul-15)s, %(Aug-15)s, %(Sep-15)s, %(Oct-15)s, %(Nov-15)s, %(Dec-15)s, %(Jan-16)s, %(Feb-16)s, %(Mar-16)s, %(Apr-16)s, %(May-16)s, %(Jun-16)s, %(Jul-16)s, %(Aug-16)s, %(Sep-16)s, %(Oct-16)s, %(Nov-16)s, %(Dec-16)s, %(Jan-17)s, %(Feb-17)s, %(Mar-17)s, %(Apr-17)s, %(May-17)s, %(Jun-17)s, %(Jul-17)s, %(Aug-17)s, %(Sep-17)s, %(Oct-17)s, %(Nov-17)s, %(Dec-17)s, %(Jan-18)s, %(Feb-18)s, %(Mar-18)s, %(Apr-18)s, %(May-18)s, %(Jun-18)s, %(Jul-18)s, %(Aug-18)s, %(Sep-18)s, %(Oct-18)s, %(Nov-18)s, %(Dec-18)s, %(Jan-19)s, %(Feb-19)s, %(Mar-19)s, %(Apr-19)s, %(May-19)s, %(Jun-19)s, %(Jul-19)s, %(Aug-19)s, %(Sep-19)s, %(Oct-19)s, %(Nov-19)s, %(Dec-19)s, %(Jan-20)s, %(Feb-20)s, %(Mar-20)s, %(Apr-20)s, %(May-20)s, %(Jun-20)s, %(Jul-20)s, %(Aug-20)s, %(Sep-20)s, %(Oct-20)s)]\n[parameters: ({'State': 'Alabama', 'Oct-10': 10.1, 'Nov-10': 10.2, 'Dec-10': 10.3, 'Jan-11': 10.2, 'Feb-11': 10.2, 'Mar-11': 10.1, 'Apr-11': 10.0, 'May-11': 10.0, 'Jun-11': 10.0, 'Jul-11': 9.9, 'Aug-11': 9.7, 'Sep-11': 9.4, 'Oct-11': 9.0, 'Nov-11': 8.6, 'Dec-11': 8.3, 'Jan-12': 8.1, 'Feb-12': 7.9, 'Mar-12': 8.0, 'Apr-12': 8.1, 'May-12': 8.2, 'Jun-12': 8.3, 'Jul-12': 8.2, 'Aug-12': 8.1, 'Sep-12': 7.9, 'Oct-12': 7.8, 'Nov-12': 7.6, 'Dec-12': 7.6, 'Jan-13': 7.5, 'Feb-13': 7.4, 'Mar-13': 7.3, 'Apr-13': 7.2, 'May-13': 7.1, 'Jun-13': 7.0, 'Jul-13': 7.1, 'Aug-13': 7.1, 'Sep-13': 7.2, 'Oct-13': 7.2, 'Nov-13': 7.2, 'Dec-13': 7.3, 'Jan-14': 7.2, 'Feb-14': 7.2, 'Mar-14': 7.2, 'Apr-14': 7.1, 'May-14': 7.0, 'Jun-14': 6.9, 'Jul-14': 6.7, 'Aug-14': 6.6, 'Sep-14': 6.5, 'Oct-14': 6.4, 'Nov-14': 6.2, 'Dec-14': 6.1, 'Jan-15': 6.0, 'Feb-15': 6.0, 'Mar-15': 6.1, 'Apr-15': 6.1, 'May-15': 6.2, 'Jun-15': 6.2, 'Jul-15': 6.2, 'Aug-15': 6.1, 'Sep-15': 6.1, 'Oct-15': 6.0, 'Nov-15': 6.0, 'Dec-15': 6.0, 'Jan-16': 6.0, 'Feb-16': 5.9, 'Mar-16': 5.9, 'Apr-16': 5.8, 'May-16': 5.8, 'Jun-16': 5.8, 'Jul-16': 5.8, 'Aug-16': 5.8, 'Sep-16': 5.9, 'Oct-16': 5.9, 'Nov-16': 5.8, 'Dec-16': 5.7, 'Jan-17': 5.4, 'Feb-17': 5.2, 'Mar-17': 4.9, 'Apr-17': 4.7, 'May-17': 4.5, 'Jun-17': 4.3, 'Jul-17': 4.2, 'Aug-17': 4.1, 'Sep-17': 4.0, 'Oct-17': 3.9, 'Nov-17': 3.9, 'Dec-17': 3.9, 'Jan-18': 3.9, 'Feb-18': 3.9, 'Mar-18': 4.0, 'Apr-18': 4.0, 'May-18': 4.0, 'Jun-18': 4.0, 'Jul-18': 4.0, 'Aug-18': 3.9, 'Sep-18': 3.8, 'Oct-18': 3.7, 'Nov-18': 3.7, 'Dec-18': 3.6, 'Jan-19': 3.6, 'Feb-19': 3.5, 'Mar-19': 3.3, 'Apr-19': 3.2, 'May-19': 3.0, 'Jun-19': 2.9, 'Jul-19': 2.8, 'Aug-19': 2.8, 'Sep-19': 2.7, 'Oct-19': 2.7, 'Nov-19': 2.7, 'Dec-19': 2.7, 'Jan-20': 2.7, 'Feb-20': 2.7, 'Mar-20': '3', 'Apr-20': '13.8', 'May-20': 9.6, 'Jun-20': 7.6, 'Jul-20': 7.9, 'Aug-20': 5.6, 'Sep-20': 6.7, 'Oct-20': 5.8}, {'State': 'Alaska', 'Oct-10': 7.8, 'Nov-10': 7.8, 'Dec-10': 7.8, 'Jan-11': 7.8, 'Feb-11': 7.7, 'Mar-11': 7.7, 'Apr-11': 7.6, 'May-11': 7.6, 'Jun-11': 7.5, 'Jul-11': 7.5, 'Aug-11': 7.5, 'Sep-11': 7.5, 'Oct-11': 7.5, 'Nov-11': 7.5, 'Dec-11': 7.4, 'Jan-12': 7.4, 'Feb-12': 7.3, 'Mar-12': 7.3, 'Apr-12': 7.2, 'May-12': 7.2, 'Jun-12': 7.1, 'Jul-12': 7.1, 'Aug-12': 7.0, 'Sep-12': 7.0, 'Oct-12': 7.0, 'Nov-12': 7.0, 'Dec-12': 7.0, 'Jan-13': 7.0, 'Feb-13': 7.0, 'Mar-13': 7.0, 'Apr-13': 7.0, 'May-13': 7.0, 'Jun-13': 7.0, 'Jul-13': 7.0, 'Aug-13': 7.0, 'Sep-13': 7.0, 'Oct-13': 7.0, 'Nov-13': 7.0, 'Dec-13': 7.0, 'Jan-14': 7.0, 'Feb-14': 7.0, 'Mar-14': 7.0, 'Apr-14': 7.0, 'May-14': 7.0, 'Jun-14': 7.0, 'Jul-14': 6.9, 'Aug-14': 6.9, 'Sep-14': 6.8, 'Oct-14': 6.7, 'Nov-14': 6.6, 'Dec-14': 6.5, 'Jan-15': 6.5, 'Feb-15': 6.5, 'Mar-15': 6.5, 'Apr-15': 6.5, 'May-15': 6.5, 'Jun-15': 6.5, 'Jul-15': 6.5, 'Aug-15': 6.5, 'Sep-15': 6.5, 'Oct-15': 6.6, 'Nov-15': 6.6, 'Dec-15': 6.7, 'Jan-16': 6.7, 'Feb-16': 6.8, 'Mar-16': 6.8, 'Apr-16': 6.8, 'May-16': 6.9, 'Jun-16': 6.9, 'Jul-16': 6.9, 'Aug-16': 6.9, 'Sep-16': 6.9, 'Oct-16': 6.9, 'Nov-16': 6.9, 'Dec-16': 6.9, 'Jan-17': 6.9, 'Feb-17': 6.9, 'Mar-17': 6.9, 'Apr-17': 6.9, 'May-17': 6.9, 'Jun-17': 6.9, 'Jul-17': 6.9, 'Aug-17': 6.9, 'Sep-17': 6.9, 'Oct-17': 6.9, 'Nov-17': 6.8, 'Dec-17': 6.8, 'Jan-18': 6.7, 'Feb-18': 6.7, 'Mar-18': 6.6, 'Apr-18': 6.6, 'May-18': 6.5, 'Jun-18': 6.5, 'Jul-18': 6.4, 'Aug-18': 6.4, 'Sep-18': 6.3, 'Oct-18': 6.3, 'Nov-18': 6.2, 'Dec-18': 6.2, 'Jan-19': 6.1, 'Feb-19': 6.1, 'Mar-19': 6.1, 'Apr-19': 6.1, 'May-19': 6.2, 'Jun-19': 6.2, 'Jul-19': 6.2, 'Aug-19': 6.2, 'Sep-19': 6.2, 'Oct-19': 6.1, 'Nov-19': 6.1, 'Dec-19': 6.1, 'Jan-20': 6.0, 'Feb-20': 5.8, 'Mar-20': '5.2', 'Apr-20': '13.5', 'May-20': 12.7, 'Jun-20': 12.4, 'Jul-20': 11.6, 'Aug-20': 7.4, 'Sep-20': 7.2, 'Oct-20': 5.9}, {'State': 'Arizona', 'Oct-10': 10.1, 'Nov-10': 10.0, 'Dec-10': 9.9, 'Jan-11': 9.8, 'Feb-11': 9.7, 'Mar-11': 9.7, 'Apr-11': 9.7, 'May-11': 9.7, 'Jun-11': 9.7, 'Jul-11': 9.7, 'Aug-11': 9.6, 'Sep-11': 9.4, 'Oct-11': 9.2, 'Nov-11': 9.0, 'Dec-11': 8.8, 'Jan-12': 8.7, 'Feb-12': 8.7, 'Mar-12': 8.6, 'Apr-12': 8.6, 'May-12': 8.5, 'Jun-12': 8.5, 'Jul-12': 8.3, 'Aug-12': 8.2, 'Sep-12': 8.1, 'Oct-12': 8.0, 'Nov-12': 7.9, 'Dec-12': 7.9, 'Jan-13': 7.9, 'Feb-13': 7.9, 'Mar-13': 7.9, 'Apr-13': 7.9, 'May-13': 7.8, 'Jun-13': 7.8, 'Jul-13': 7.8, 'Aug-13': 7.7, 'Sep-13': 7.7, 'Oct-13': 7.6, 'Nov-13': 7.5, 'Dec-13': 7.4, 'Jan-14': 7.3, 'Feb-14': 7.1, 'Mar-14': 7.0, 'Apr-14': 6.9, 'May-14': 6.9, 'Jun-14': 6.8, 'Jul-14': 6.7, 'Aug-14': 6.7, 'Sep-14': 6.6, 'Oct-14': 6.6, 'Nov-14': 6.5, 'Dec-14': 6.5, 'Jan-15': 6.4, 'Feb-15': 6.3, 'Mar-15': 6.3, 'Apr-15': 6.2, 'May-15': 6.1, 'Jun-15': 6.1, 'Jul-15': 6.0, 'Aug-15': 6.0, 'Sep-15': 5.9, 'Oct-15': 5.9, 'Nov-15': 5.8, 'Dec-15': 5.7, 'Jan-16': 5.6, 'Feb-16': 5.5, 'Mar-16': 5.5, 'Apr-16': 5.5, 'May-16': 5.4, 'Jun-16': 5.4, 'Jul-16': 5.4, 'Aug-16': 5.3, 'Sep-16': 5.3, 'Oct-16': 5.2, 'Nov-16': 5.2, 'Dec-16': 5.2, 'Jan-17': 5.1, 'Feb-17': 5.1, 'Mar-17': 5.0, 'Apr-17': 5.0, 'May-17': 4.9, 'Jun-17': 4.8, 'Jul-17': 4.8, 'Aug-17': 4.7, 'Sep-17': 4.7, 'Oct-17': 4.7, 'Nov-17': 4.7, 'Dec-17': 4.8, 'Jan-18': 4.8, 'Feb-18': 4.8, 'Mar-18': 4.7, 'Apr-18': 4.7, 'May-18': 4.7, 'Jun-18': 4.7, 'Jul-18': 4.7, 'Aug-18': 4.7, 'Sep-18': 4.7, 'Oct-18': 4.8, 'Nov-18': 4.8, 'Dec-18': 4.8, 'Jan-19': 4.9, 'Feb-19': 4.9, 'Mar-19': 4.8, 'Apr-19': 4.8, 'May-19': 4.8, 'Jun-19': 4.8, 'Jul-19': 4.7, 'Aug-19': 4.6, 'Sep-19': 4.6, 'Oct-19': 4.5, 'Nov-19': 4.5, 'Dec-19': 4.5, 'Jan-20': 4.5, 'Feb-20': 4.5, 'Mar-20': '6.1', 'Apr-20': '13.4', 'May-20': 9.0, 'Jun-20': 10.0, 'Jul-20': 10.7, 'Aug-20': 5.9, 'Sep-20': 6.5, 'Oct-20': 8.0}, {'State': 'Arkansas', 'Oct-10': 8.3, 'Nov-10': 8.3, 'Dec-10': 8.4, 'Jan-11': 8.5, 'Feb-11': 8.5, 'Mar-11': 8.5, 'Apr-11': 8.5, 'May-11': 8.5, 'Jun-11': 8.4, 'Jul-11': 8.4, 'Aug-11': 8.3, 'Sep-11': 8.2, 'Oct-11': 8.0, 'Nov-11': 7.9, 'Dec-11': 7.8, 'Jan-12': 7.7, 'Feb-12': 7.6, 'Mar-12': 7.6, 'Apr-12': 7.6, 'May-12': 7.6, 'Jun-12': 7.6, 'Jul-12': 7.6, 'Aug-12': 7.6, 'Sep-12': 7.5, 'Oct-12': 7.5, 'Nov-12': 7.5, 'Dec-12': 7.5, 'Jan-13': 7.4, 'Feb-13': 7.4, 'Mar-13': 7.4, 'Apr-13': 7.4, 'May-13': 7.4, 'Jun-13': 7.3, 'Jul-13': 7.3, 'Aug-13': 7.2, 'Sep-13': 7.1, 'Oct-13': 7.0, 'Nov-13': 6.9, 'Dec-13': 6.8, 'Jan-14': 6.6, 'Feb-14': 6.5, 'Mar-14': 6.3, 'Apr-14': 6.2, 'May-14': 6.1, 'Jun-14': 6.0, 'Jul-14': 5.9, 'Aug-14': 5.8, 'Sep-14': 5.8, 'Oct-14': 5.7, 'Nov-14': 5.7, 'Dec-14': 5.6, 'Jan-15': 5.6, 'Feb-15': 5.5, 'Mar-15': 5.5, 'Apr-15': 5.4, 'May-15': 5.3, 'Jun-15': 5.1, 'Jul-15': 5.0, 'Aug-15': 4.8, 'Sep-15': 4.7, 'Oct-15': 4.5, 'Nov-15': 4.4, 'Dec-15': 4.3, 'Jan-16': 4.2, 'Feb-16': 4.2, 'Mar-16': 4.1, 'Apr-16': 4.0, 'May-16': 4.0, 'Jun-16': 4.0, 'Jul-16': 4.0, 'Aug-16': 3.9, 'Sep-16': 3.9, 'Oct-16': 3.8, 'Nov-16': 3.8, 'Dec-16': 3.7, 'Jan-17': 3.7, 'Feb-17': 3.7, 'Mar-17': 3.6, 'Apr-17': 3.6, 'May-17': 3.7, 'Jun-17': 3.7, 'Jul-17': 3.7, 'Aug-17': 3.7, 'Sep-17': 3.7, 'Oct-17': 3.7, 'Nov-17': 3.7, 'Dec-17': 3.7, 'Jan-18': 3.7, 'Feb-18': 3.7, 'Mar-18': 3.7, 'Apr-18': 3.7, 'May-18': 3.7, 'Jun-18': 3.6, 'Jul-18': 3.6, 'Aug-18': 3.6, 'Sep-18': 3.6, 'Oct-18': 3.6, 'Nov-18': 3.6, 'Dec-18': 3.6, 'Jan-19': 3.6, 'Feb-19': 3.6, 'Mar-19': 3.5, 'Apr-19': 3.5, 'May-19': 3.5, 'Jun-19': 3.6, 'Jul-19': 3.6, 'Aug-19': 3.6, 'Sep-19': 3.6, 'Oct-19': 3.5, 'Nov-19': 3.5, 'Dec-19': 3.5, 'Jan-20': 3.5, 'Feb-20': 3.5, 'Mar-20': '5', 'Apr-20': '10.8', 'May-20': 9.6, 'Jun-20': 8.1, 'Jul-20': 7.1, 'Aug-20': 7.4, 'Sep-20': 7.2, 'Oct-20': 6.2}, {'State': 'California', 'Oct-10': 12.3, 'Nov-10': 12.3, 'Dec-10': 12.2, 'Jan-11': 12.1, 'Feb-11': 12.0, 'Mar-11': 11.9, 'Apr-11': 11.8, 'May-11': 11.8, 'Jun-11': 11.8, 'Jul-11': 11.8, 'Aug-11': 11.7, 'Sep-11': 11.6, 'Oct-11': 11.5, 'Nov-11': 11.3, 'Dec-11': 11.2, 'Jan-12': 11.0, 'Feb-12': 10.9, 'Mar-12': 10.8, 'Apr-12': 10.7, 'May-12': 10.6, 'Jun-12': 10.5, 'Jul-12': 10.4, 'Aug-12': 10.2, 'Sep-12': 10.0, 'Oct-12': 9.9, 'Nov-12': 9.8, 'Dec-12': 9.7, 'Jan-13': 9.6, 'Feb-13': 9.4, 'Mar-13': 9.3, 'Apr-13': 9.2, 'May-13': 9.1, 'Jun-13': 9.0, 'Jul-13': 8.9, 'Aug-13': 8.8, 'Sep-13': 8.7, 'Oct-13': 8.6, 'Nov-13': 8.4, 'Dec-13': 8.3, 'Jan-14': 8.2, 'Feb-14': 8.0, 'Mar-14': 7.9, 'Apr-14': 7.8, 'May-14': 7.7, 'Jun-14': 7.5, 'Jul-14': 7.4, 'Aug-14': 7.3, 'Sep-14': 7.2, 'Oct-14': 7.1, 'Nov-14': 7.0, 'Dec-14': 6.9, 'Jan-15': 6.8, 'Feb-15': 6.7, 'Mar-15': 6.6, 'Apr-15': 6.5, 'May-15': 6.4, 'Jun-15': 6.2, 'Jul-15': 6.1, 'Aug-15': 6.0, 'Sep-15': 5.9, 'Oct-15': 5.8, 'Nov-15': 5.8, 'Dec-15': 5.7, 'Jan-16': 5.7, 'Feb-16': 5.6, 'Mar-16': 5.6, 'Apr-16': 5.5, 'May-16': 5.5, 'Jun-16': 5.5, 'Jul-16': 5.5, 'Aug-16': 5.5, 'Sep-16': 5.4, 'Oct-16': 5.4, 'Nov-16': 5.4, 'Dec-16': 5.3, 'Jan-17': 5.2, 'Feb-17': 5.1, 'Mar-17': 5.0, 'Apr-17': 4.9, 'May-17': 4.9, 'Jun-17': 4.8, 'Jul-17': 4.8, 'Aug-17': 4.7, 'Sep-17': 4.6, 'Oct-17': 4.6, 'Nov-17': 4.5, 'Dec-17': 4.4, 'Jan-18': 4.4, 'Feb-18': 4.3, 'Mar-18': 4.3, 'Apr-18': 4.3, 'May-18': 4.3, 'Jun-18': 4.2, 'Jul-18': 4.2, 'Aug-18': 4.2, 'Sep-18': 4.2, 'Oct-18': 4.2, 'Nov-18': 4.2, 'Dec-18': 4.3, 'Jan-19': 4.3, 'Feb-19': 4.3, 'Mar-19': 4.2, 'Apr-19': 4.2, 'May-19': 4.1, 'Jun-19': 4.0, 'Jul-19': 4.0, 'Aug-19': 3.9, 'Sep-19': 3.9, 'Oct-19': 3.9, 'Nov-19': 3.9, 'Dec-19': 3.9, 'Jan-20': 3.9, 'Feb-20': 3.9, 'Mar-20': '5.5', 'Apr-20': '16.4', 'May-20': 16.4, 'Jun-20': 14.9, 'Jul-20': 13.5, 'Aug-20': 11.2, 'Sep-20': 11.1, 'Oct-20': 9.3}, {'State': 'Colorado', 'Oct-10': 8.9, 'Nov-10': 8.9, 'Dec-10': 8.9, 'Jan-11': 8.8, 'Feb-11': 8.7, 'Mar-11': 8.5, 'Apr-11': 8.4, 'May-11': 8.3, 'Jun-11': 8.3, 'Jul-11': 8.3, 'Aug-11': 8.2, 'Sep-11': 8.2, 'Oct-11': 8.2, 'Nov-11': 8.2, 'Dec-11': 8.2, 'Jan-12': 8.2, 'Feb-12': 8.1, 'Mar-12': 8.1, 'Apr-12': 8.1, 'May-12': 8.0, 'Jun-12': 8.0, 'Jul-12': 7.9, 'Aug-12': 7.8, 'Sep-12': 7.7, 'Oct-12': 7.7, 'Nov-12': 7.6, 'Dec-12': 7.5, 'Jan-13': 7.4, 'Feb-13': 7.3, 'Mar-13': 7.2, 'Apr-13': 7.1, 'May-13': 7.1, 'Jun-13': 7.0, 'Jul-13': 6.9, 'Aug-13': 6.8, 'Sep-13': 6.6, 'Oct-13': 6.4, 'Nov-13': 6.3, 'Dec-13': 6.1, 'Jan-14': 6.0, 'Feb-14': 5.8, 'Mar-14': 5.6, 'Apr-14': 5.4, 'May-14': 5.2, 'Jun-14': 5.0, 'Jul-14': 4.8, 'Aug-14': 4.6, 'Sep-14': 4.5, 'Oct-14': 4.4, 'Nov-14': 4.3, 'Dec-14': 4.3, 'Jan-15': 4.3, 'Feb-15': 4.2, 'Mar-15': 4.2, 'Apr-15': 4.1, 'May-15': 4.1, 'Jun-15': 4.0, 'Jul-15': 3.8, 'Aug-15': 3.7, 'Sep-15': 3.6, 'Oct-15': 3.6, 'Nov-15': 3.5, 'Dec-15': 3.5, 'Jan-16': 3.5, 'Feb-16': 3.5, 'Mar-16': 3.5, 'Apr-16': 3.5, 'May-16': 3.4, 'Jun-16': 3.4, 'Jul-16': 3.3, 'Aug-16': 3.3, 'Sep-16': 3.2, 'Oct-16': 3.1, 'Nov-16': 3.0, 'Dec-16': 2.9, 'Jan-17': 2.8, 'Feb-17': 2.7, 'Mar-17': 2.7, 'Apr-17': 2.7, 'May-17': 2.7, 'Jun-17': 2.7, 'Jul-17': 2.8, 'Aug-17': 2.8, 'Sep-17': 2.9, 'Oct-17': 2.9, 'Nov-17': 2.9, 'Dec-17': 2.9, 'Jan-18': 3.0, 'Feb-18': 3.0, 'Mar-18': 3.0, 'Apr-18': 3.1, 'May-18': 3.1, 'Jun-18': 3.2, 'Jul-18': 3.2, 'Aug-18': 3.2, 'Sep-18': 3.3, 'Oct-18': 3.3, 'Nov-18': 3.3, 'Dec-18': 3.2, 'Jan-19': 3.2, 'Feb-19': 3.1, 'Mar-19': 3.0, 'Apr-19': 2.9, 'May-19': 2.8, 'Jun-19': 2.7, 'Jul-19': 2.7, 'Aug-19': 2.6, 'Sep-19': 2.6, 'Oct-19': 2.5, 'Nov-19': 2.5, 'Dec-19': 2.5, 'Jan-20': 2.5, 'Feb-20': 2.5, 'Mar-20': '5.2', 'Apr-20': '12.2', 'May-20': 10.2, 'Jun-20': 10.6, 'Jul-20': 7.4, 'Aug-20': 6.7, 'Sep-20': 6.4, 'Oct-20': 6.4}, {'State': 'Connecticut', 'Oct-10': 9.2, 'Nov-10': 9.3, 'Dec-10': 9.3, 'Jan-11': 9.2, 'Feb-11': 9.2, 'Mar-11': 9.2, 'Apr-11': 9.1, 'May-11': 9.0, 'Jun-11': 8.9, 'Jul-11': 8.8, 'Aug-11': 8.7, 'Sep-11': 8.6, 'Oct-11': 8.5, 'Nov-11': 8.4, 'Dec-11': 8.3, 'Jan-12': 8.2, 'Feb-12': 8.2, 'Mar-12': 8.3, 'Apr-12': 8.3, 'May-12': 8.4, 'Jun-12': 8.5, 'Jul-12': 8.5, 'Aug-12': 8.5, 'Sep-12': 8.4, 'Oct-12': 8.4, 'Nov-12': 8.3, 'Dec-12': 8.2, 'Jan-13': 8.2, 'Feb-13': 8.1, 'Mar-13': 8.1, 'Apr-13': 8.0, 'May-13': 7.9, 'Jun-13': 7.9, 'Jul-13': 7.8, 'Aug-13': 7.8, 'Sep-13': 7.7, 'Oct-13': 7.5, 'Nov-13': 7.4, 'Dec-13': 7.3, 'Jan-14': 7.2, 'Feb-14': 7.0, 'Mar-14': 6.9, 'Apr-14': 6.8, 'May-14': 6.7, 'Jun-14': 6.6, 'Jul-14': 6.5, 'Aug-14': 6.5, 'Sep-14': 6.4, 'Oct-14': 6.4, 'Nov-14': 6.3, 'Dec-14': 6.2, 'Jan-15': 6.1, 'Feb-15': 6.0, 'Mar-15': 5.9, 'Apr-15': 5.8, 'May-15': 5.7, 'Jun-15': 5.7, 'Jul-15': 5.6, 'Aug-15': 5.6, 'Sep-15': 5.6, 'Oct-15': 5.6, 'Nov-15': 5.6, 'Dec-15': 5.5, 'Jan-16': 5.5, 'Feb-16': 5.4, 'Mar-16': 5.4, 'Apr-16': 5.3, 'May-16': 5.3, 'Jun-16': 5.2, 'Jul-16': 5.2, 'Aug-16': 5.1, 'Sep-16': 5.0, 'Oct-16': 4.9, 'Nov-16': 4.9, 'Dec-16': 4.8, 'Jan-17': 4.8, 'Feb-17': 4.8, 'Mar-17': 4.8, 'Apr-17': 4.8, 'May-17': 4.8, 'Jun-17': 4.7, 'Jul-17': 4.7, 'Aug-17': 4.6, 'Sep-17': 4.6, 'Oct-17': 4.6, 'Nov-17': 4.6, 'Dec-17': 4.6, 'Jan-18': 4.5, 'Feb-18': 4.5, 'Mar-18': 4.4, 'Apr-18': 4.3, 'May-18': 4.2, 'Jun-18': 4.2, 'Jul-18': 4.1, 'Aug-18': 4.0, 'Sep-18': 4.0, 'Oct-18': 3.9, 'Nov-18': 3.9, 'Dec-18': 3.9, 'Jan-19': 3.8, 'Feb-19': 3.8, 'Mar-19': 3.7, 'Apr-19': 3.7, 'May-19': 3.7, 'Jun-19': 3.7, 'Jul-19': 3.7, 'Aug-19': 3.7, 'Sep-19': 3.7, 'Oct-19': 3.8, 'Nov-19': 3.8, 'Dec-19': 3.8, 'Jan-20': 3.7, 'Feb-20': 3.8, 'Mar-20': '3.4', 'Apr-20': '8.3', 'May-20': 9.6, 'Jun-20': 10.1, 'Jul-20': 10.2, 'Aug-20': 8.1, 'Sep-20': 7.7, 'Oct-20': 6.1}, {'State': 'Delaware', 'Oct-10': 8.2, 'Nov-10': 8.1, 'Dec-10': 8.0, 'Jan-11': 7.9, 'Feb-11': 7.8, 'Mar-11': 7.7, 'Apr-11': 7.6, 'May-11': 7.5, 'Jun-11': 7.5, 'Jul-11': 7.5, 'Aug-11': 7.4, 'Sep-11': 7.4, 'Oct-11': 7.3, 'Nov-11': 7.2, 'Dec-11': 7.2, 'Jan-12': 7.1, 'Feb-12': 7.1, 'Mar-12': 7.1, 'Apr-12': 7.2, 'May-12': 7.2, 'Jun-12': 7.2, 'Jul-12': 7.2, 'Aug-12': 7.3, 'Sep-12': 7.3, 'Oct-12': 7.3, 'Nov-12': 7.3, 'Dec-12': 7.2, 'Jan-13': 7.2, 'Feb-13': 7.1, 'Mar-13': 7.1, 'Apr-13': 7.0, 'May-13': 6.9, 'Jun-13': 6.8, 'Jul-13': 6.6, 'Aug-13': 6.5, 'Sep-13': 6.4, 'Oct-13': 6.3, 'Nov-13': 6.2, 'Dec-13': 6.2, 'Jan-14': 6.1, 'Feb-14': 6.1, 'Mar-14': 6.0, 'Apr-14': 6.0, 'May-14': 5.9, 'Jun-14': 5.8, 'Jul-14': 5.7, 'Aug-14': 5.6, 'Sep-14': 5.5, 'Oct-14': 5.4, 'Nov-14': 5.3, 'Dec-14': 5.2, 'Jan-15': 5.1, 'Feb-15': 5.0, 'Mar-15': 5.0, 'Apr-15': 4.9, 'May-15': 4.9, 'Jun-15': 4.9, 'Jul-15': 4.8, 'Aug-15': 4.8, 'Sep-15': 4.8, 'Oct-15': 4.7, 'Nov-15': 4.7, 'Dec-15': 4.7, 'Jan-16': 4.6, 'Feb-16': 4.6, 'Mar-16': 4.5, 'Apr-16': 4.5, 'May-16': 4.5, 'Jun-16': 4.5, 'Jul-16': 4.5, 'Aug-16': 4.5, 'Sep-16': 4.5, 'Oct-16': 4.5, 'Nov-16': 4.5, 'Dec-16': 4.6, 'Jan-17': 4.6, 'Feb-17': 4.6, 'Mar-17': 4.6, 'Apr-17': 4.6, 'May-17': 4.6, 'Jun-17': 4.5, 'Jul-17': 4.5, 'Aug-17': 4.4, 'Sep-17': 4.4, 'Oct-17': 4.3, 'Nov-17': 4.3, 'Dec-17': 4.2, 'Jan-18': 4.1, 'Feb-18': 4.1, 'Mar-18': 4.0, 'Apr-18': 3.9, 'May-18': 3.9, 'Jun-18': 3.8, 'Jul-18': 3.7, 'Aug-18': 3.7, 'Sep-18': 3.6, 'Oct-18': 3.6, 'Nov-18': 3.5, 'Dec-18': 3.5, 'Jan-19': 3.5, 'Feb-19': 3.5, 'Mar-19': 3.6, 'Apr-19': 3.6, 'May-19': 3.7, 'Jun-19': 3.7, 'Jul-19': 3.8, 'Aug-19': 3.9, 'Sep-19': 3.9, 'Oct-19': 4.0, 'Nov-19': 4.0, 'Dec-19': 4.0, 'Jan-20': 4.0, 'Feb-20': 3.9, 'Mar-20': '5', 'Apr-20': '14.9', 'May-20': 15.9, 'Jun-20': 12.6, 'Jul-20': 10.5, 'Aug-20': 8.9, 'Sep-20': 8.3, 'Oct-20': 5.6}  ... displaying 10 of 52 total bound parameter sets ...  {'State': 'Wyoming', 'Oct-10': 6.1, 'Nov-10': 6.1, 'Dec-10': 6.2, 'Jan-11': 6.1, 'Feb-11': 6.1, 'Mar-11': 6.0, 'Apr-11': 5.9, 'May-11': 5.8, 'Jun-11': 5.7, 'Jul-11': 5.7, 'Aug-11': 5.6, 'Sep-11': 5.7, 'Oct-11': 5.7, 'Nov-11': 5.6, 'Dec-11': 5.6, 'Jan-12': 5.5, 'Feb-12': 5.4, 'Mar-12': 5.3, 'Apr-12': 5.3, 'May-12': 5.3, 'Jun-12': 5.3, 'Jul-12': 5.3, 'Aug-12': 5.4, 'Sep-12': 5.3, 'Oct-12': 5.3, 'Nov-12': 5.2, 'Dec-12': 5.1, 'Jan-13': 5.1, 'Feb-13': 5.0, 'Mar-13': 4.9, 'Apr-13': 4.8, 'May-13': 4.7, 'Jun-13': 4.7, 'Jul-13': 4.6, 'Aug-13': 4.6, 'Sep-13': 4.6, 'Oct-13': 4.6, 'Nov-13': 4.5, 'Dec-13': 4.5, 'Jan-14': 4.4, 'Feb-14': 4.3, 'Mar-14': 4.2, 'Apr-14': 4.2, 'May-14': 4.1, 'Jun-14': 4.1, 'Jul-14': 4.1, 'Aug-14': 4.1, 'Sep-14': 4.1, 'Oct-14': 4.1, 'Nov-14': 4.0, 'Dec-14': 3.9, 'Jan-15': 3.9, 'Feb-15': 4.0, 'Mar-15': 4.1, 'Apr-15': 4.2, 'May-15': 4.3, 'Jun-15': 4.3, 'Jul-15': 4.4, 'Aug-15': 4.4, 'Sep-15': 4.4, 'Oct-15': 4.5, 'Nov-15': 4.6, 'Dec-15': 4.9, 'Jan-16': 5.1, 'Feb-16': 5.4, 'Mar-16': 5.6, 'Apr-16': 5.7, 'May-16': 5.7, 'Jun-16': 5.6, 'Jul-16': 5.5, 'Aug-16': 5.3, 'Sep-16': 5.2, 'Oct-16': 5.0, 'Nov-16': 4.9, 'Dec-16': 4.8, 'Jan-17': 4.6, 'Feb-17': 4.4, 'Mar-17': 4.3, 'Apr-17': 4.1, 'May-17': 4.1, 'Jun-17': 4.0, 'Jul-17': 4.1, 'Aug-17': 4.1, 'Sep-17': 4.1, 'Oct-17': 4.1, 'Nov-17': 4.1, 'Dec-17': 4.0, 'Jan-18': 4.0, 'Feb-18': 4.0, 'Mar-18': 3.9, 'Apr-18': 3.9, 'May-18': 3.9, 'Jun-18': 3.9, 'Jul-18': 3.9, 'Aug-18': 3.9, 'Sep-18': 3.9, 'Oct-18': 3.8, 'Nov-18': 3.7, 'Dec-18': 3.6, 'Jan-19': 3.5, 'Feb-19': 3.5, 'Mar-19': 3.4, 'Apr-19': 3.5, 'May-19': 3.5, 'Jun-19': 3.6, 'Jul-19': 3.7, 'Aug-19': 3.7, 'Sep-19': 3.7, 'Oct-19': 3.7, 'Nov-19': 3.7, 'Dec-19': 3.7, 'Jan-20': 3.7, 'Feb-20': 3.7, 'Mar-20': '3.8', 'Apr-20': '9.6', 'May-20': 8.8, 'Jun-20': 7.6, 'Jul-20': 7.1, 'Aug-20': 6.6, 'Sep-20': 6.1, 'Oct-20': 5.5}, {'State': 'Puerto Rico', 'Oct-10': 15.8, 'Nov-10': 15.8, 'Dec-10': 16.0, 'Jan-11': 16.2, 'Feb-11': 16.4, 'Mar-11': 16.5, 'Apr-11': 16.5, 'May-11': 16.3, 'Jun-11': 16.1, 'Jul-11': 15.9, 'Aug-11': 15.7, 'Sep-11': 15.6, 'Oct-11': 15.5, 'Nov-11': 15.5, 'Dec-11': 15.4, 'Jan-12': 15.3, 'Feb-12': 15.1, 'Mar-12': 14.9, 'Apr-12': 14.7, 'May-12': 14.5, 'Jun-12': 14.2, 'Jul-12': 14.1, 'Aug-12': 14.0, 'Sep-12': 14.0, 'Oct-12': 14.2, 'Nov-12': 14.3, 'Dec-12': 14.3, 'Jan-13': 14.2, 'Feb-13': 14.1, 'Mar-13': 13.8, 'Apr-13': 13.7, 'May-13': 13.7, 'Jun-13': 13.8, 'Jul-13': 14.0, 'Aug-13': 14.3, 'Sep-13': 14.5, 'Oct-13': 14.8, 'Nov-13': 14.9, 'Dec-13': 15.0, 'Jan-14': 14.9, 'Feb-14': 14.6, 'Mar-14': 14.2, 'Apr-14': 13.8, 'May-14': 13.6, 'Jun-14': 13.6, 'Jul-14': 13.8, 'Aug-14': 14.0, 'Sep-14': 14.0, 'Oct-14': 13.7, 'Nov-14': 13.2, 'Dec-14': 12.6, 'Jan-15': 12.2, 'Feb-15': 12.0, 'Mar-15': 12.1, 'Apr-15': 12.1, 'May-15': 12.1, 'Jun-15': 12.1, 'Jul-15': 12.1, 'Aug-15': 12.1, 'Sep-15': 12.0, 'Oct-15': 12.0, 'Nov-15': 12.0, 'Dec-15': 11.9, 'Jan-16': 11.7, 'Feb-16': 11.6, 'Mar-16': 11.5, 'Apr-16': 11.5, 'May-16': 11.6, 'Jun-16': 11.6, 'Jul-16': 11.7, 'Aug-16': 11.8, 'Sep-16': 12.0, 'Oct-16': 12.1, 'Nov-16': 12.0, 'Dec-16': 11.9, 'Jan-17': 11.8, 'Feb-17': 11.5, 'Mar-17': 11.2, 'Apr-17': 10.9, 'May-17': 10.6, 'Jun-17': 10.4, 'Jul-17': 10.4, 'Aug-17': 10.5, 'Sep-17': 10.7, 'Oct-17': 11.3, 'Nov-17': 10.9, 'Dec-17': 10.7, 'Jan-18': 10.5, 'Feb-18': 10.2, 'Mar-18': 10.0, 'Apr-18': 9.7, 'May-18': 9.5, 'Jun-18': 9.2, 'Jul-18': 8.9, 'Aug-18': 8.6, 'Sep-18': 8.4, 'Oct-18': 8.3, 'Nov-18': 8.3, 'Dec-18': 8.5, 'Jan-19': 8.6, 'Feb-19': 8.7, 'Mar-19': 8.6, 'Apr-19': 8.4, 'May-19': 8.0, 'Jun-19': 7.7, 'Jul-19': 7.5, 'Aug-19': 7.6, 'Sep-19': 7.9, 'Oct-19': 8.3, 'Nov-19': 8.5, 'Dec-19': 8.5, 'Jan-20': 8.9, 'Feb-20': 8.8, 'Mar-20': '-', 'Apr-20': '-', 'May-20': 9.0, 'Jun-20': 8.9, 'Jul-20': 8.5, 'Aug-20': 8.3, 'Sep-20': 8.4, 'Oct-20': 8.3})]\n(Background on this error at: http://sqlalche.me/e/13/f405)"
     ]
    }
   ],
   "source": [
    "state_unemployment_df.to_sql(name='states', con=engine, if_exists='append', index=False)"
   ]
  },
  {
   "cell_type": "code",
   "execution_count": null,
   "metadata": {},
   "outputs": [],
   "source": [
    "pd.read_sql_query('select * from customer_name', con=engine).head()"
   ]
  },
  {
   "cell_type": "code",
   "execution_count": null,
   "metadata": {},
   "outputs": [],
   "source": []
  }
 ],
 "metadata": {
  "kernelspec": {
   "display_name": "Python 3",
   "language": "python",
   "name": "python3"
  },
  "language_info": {
   "codemirror_mode": {
    "name": "ipython",
    "version": 3
   },
   "file_extension": ".py",
   "mimetype": "text/x-python",
   "name": "python",
   "nbconvert_exporter": "python",
   "pygments_lexer": "ipython3",
   "version": "3.8.3"
  }
 },
 "nbformat": 4,
 "nbformat_minor": 4
}
