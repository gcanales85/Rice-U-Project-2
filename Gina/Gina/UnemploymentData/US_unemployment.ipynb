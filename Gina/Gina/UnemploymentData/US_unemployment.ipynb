{
 "cells": [
  {
   "cell_type": "code",
   "execution_count": 1,
   "metadata": {},
   "outputs": [],
   "source": [
    "import pandas as pd\n",
    "import os\n",
    "import numpy as np\n",
    "import matplotlib.pyplot as plt"
   ]
  },
  {
   "cell_type": "code",
   "execution_count": 2,
   "metadata": {},
   "outputs": [],
   "source": [
    "# Read excel file into a pandas dataframe\n",
    "unemployment_df = pd.read_csv ('Average US_Employment rate_2010to2020.csv') "
   ]
  },
  {
   "cell_type": "code",
   "execution_count": 3,
   "metadata": {},
   "outputs": [
    {
     "data": {
      "text/html": [
       "<div>\n",
       "<style scoped>\n",
       "    .dataframe tbody tr th:only-of-type {\n",
       "        vertical-align: middle;\n",
       "    }\n",
       "\n",
       "    .dataframe tbody tr th {\n",
       "        vertical-align: top;\n",
       "    }\n",
       "\n",
       "    .dataframe thead th {\n",
       "        text-align: right;\n",
       "    }\n",
       "</style>\n",
       "<table border=\"1\" class=\"dataframe\">\n",
       "  <thead>\n",
       "    <tr style=\"text-align: right;\">\n",
       "      <th></th>\n",
       "      <th>Oct-10</th>\n",
       "      <th>Nov-10</th>\n",
       "      <th>Dec-10</th>\n",
       "      <th>Jan-11</th>\n",
       "      <th>Feb-11</th>\n",
       "      <th>Mar-11</th>\n",
       "      <th>Apr-11</th>\n",
       "      <th>May-11</th>\n",
       "      <th>Jun-11</th>\n",
       "      <th>Jul-11</th>\n",
       "      <th>...</th>\n",
       "      <th>Jan-20</th>\n",
       "      <th>Feb-20</th>\n",
       "      <th>Mar-20</th>\n",
       "      <th>Apr-20</th>\n",
       "      <th>May-20</th>\n",
       "      <th>Jun-20</th>\n",
       "      <th>Jul-20</th>\n",
       "      <th>Aug-20</th>\n",
       "      <th>Sep-20</th>\n",
       "      <th>Oct-20</th>\n",
       "    </tr>\n",
       "  </thead>\n",
       "  <tbody>\n",
       "    <tr>\n",
       "      <th>0</th>\n",
       "      <td>8.75</td>\n",
       "      <td>8.71</td>\n",
       "      <td>8.67</td>\n",
       "      <td>8.59</td>\n",
       "      <td>8.52</td>\n",
       "      <td>8.45</td>\n",
       "      <td>8.42</td>\n",
       "      <td>8.39</td>\n",
       "      <td>8.38</td>\n",
       "      <td>8.37</td>\n",
       "      <td>...</td>\n",
       "      <td>3.65</td>\n",
       "      <td>3.62</td>\n",
       "      <td>4.15</td>\n",
       "      <td>14.18</td>\n",
       "      <td>12.28</td>\n",
       "      <td>9.81</td>\n",
       "      <td>9.17</td>\n",
       "      <td>7.78</td>\n",
       "      <td>7.26</td>\n",
       "      <td>6.41</td>\n",
       "    </tr>\n",
       "  </tbody>\n",
       "</table>\n",
       "<p>1 rows × 121 columns</p>\n",
       "</div>"
      ],
      "text/plain": [
       "   Oct-10  Nov-10  Dec-10  Jan-11  Feb-11  Mar-11  Apr-11  May-11  Jun-11  \\\n",
       "0    8.75    8.71    8.67    8.59    8.52    8.45    8.42    8.39    8.38   \n",
       "\n",
       "   Jul-11  ...  Jan-20  Feb-20  Mar-20  Apr-20  May-20  Jun-20  Jul-20  \\\n",
       "0    8.37  ...    3.65    3.62    4.15   14.18   12.28    9.81    9.17   \n",
       "\n",
       "   Aug-20  Sep-20  Oct-20  \n",
       "0    7.78    7.26    6.41  \n",
       "\n",
       "[1 rows x 121 columns]"
      ]
     },
     "execution_count": 3,
     "metadata": {},
     "output_type": "execute_result"
    }
   ],
   "source": [
    "unemployment_df.head()"
   ]
  },
  {
   "cell_type": "code",
   "execution_count": 4,
   "metadata": {},
   "outputs": [
    {
     "name": "stderr",
     "output_type": "stream",
     "text": [
      "/Users/ginacanales/opt/anaconda3/lib/python3.7/site-packages/ipykernel_launcher.py:1: UserWarning: Pandas doesn't allow columns to be created via a new attribute name - see https://pandas.pydata.org/pandas-docs/stable/indexing.html#attribute-access\n",
      "  \"\"\"Entry point for launching an IPython kernel.\n"
     ]
    }
   ],
   "source": [
    "unemployment_df.rows = ['Date','Month']"
   ]
  },
  {
   "cell_type": "code",
   "execution_count": 5,
   "metadata": {},
   "outputs": [],
   "source": [
    "unemployment_df.to_csv('Average US_Employment rate_2010to2020_2.csv')"
   ]
  },
  {
   "cell_type": "code",
   "execution_count": 6,
   "metadata": {},
   "outputs": [
    {
     "data": {
      "text/html": [
       "<div>\n",
       "<style scoped>\n",
       "    .dataframe tbody tr th:only-of-type {\n",
       "        vertical-align: middle;\n",
       "    }\n",
       "\n",
       "    .dataframe tbody tr th {\n",
       "        vertical-align: top;\n",
       "    }\n",
       "\n",
       "    .dataframe thead th {\n",
       "        text-align: right;\n",
       "    }\n",
       "</style>\n",
       "<table border=\"1\" class=\"dataframe\">\n",
       "  <thead>\n",
       "    <tr style=\"text-align: right;\">\n",
       "      <th></th>\n",
       "      <th>Oct-10</th>\n",
       "      <th>Nov-10</th>\n",
       "      <th>Dec-10</th>\n",
       "      <th>Jan-11</th>\n",
       "      <th>Feb-11</th>\n",
       "      <th>Mar-11</th>\n",
       "      <th>Apr-11</th>\n",
       "      <th>May-11</th>\n",
       "      <th>Jun-11</th>\n",
       "      <th>Jul-11</th>\n",
       "      <th>...</th>\n",
       "      <th>Jan-20</th>\n",
       "      <th>Feb-20</th>\n",
       "      <th>Mar-20</th>\n",
       "      <th>Apr-20</th>\n",
       "      <th>May-20</th>\n",
       "      <th>Jun-20</th>\n",
       "      <th>Jul-20</th>\n",
       "      <th>Aug-20</th>\n",
       "      <th>Sep-20</th>\n",
       "      <th>Oct-20</th>\n",
       "    </tr>\n",
       "  </thead>\n",
       "  <tbody>\n",
       "    <tr>\n",
       "      <th>0</th>\n",
       "      <td>8.75</td>\n",
       "      <td>8.71</td>\n",
       "      <td>8.67</td>\n",
       "      <td>8.59</td>\n",
       "      <td>8.52</td>\n",
       "      <td>8.45</td>\n",
       "      <td>8.42</td>\n",
       "      <td>8.39</td>\n",
       "      <td>8.38</td>\n",
       "      <td>8.37</td>\n",
       "      <td>...</td>\n",
       "      <td>3.65</td>\n",
       "      <td>3.62</td>\n",
       "      <td>4.15</td>\n",
       "      <td>14.18</td>\n",
       "      <td>12.28</td>\n",
       "      <td>9.81</td>\n",
       "      <td>9.17</td>\n",
       "      <td>7.78</td>\n",
       "      <td>7.26</td>\n",
       "      <td>6.41</td>\n",
       "    </tr>\n",
       "  </tbody>\n",
       "</table>\n",
       "<p>1 rows × 121 columns</p>\n",
       "</div>"
      ],
      "text/plain": [
       "   Oct-10  Nov-10  Dec-10  Jan-11  Feb-11  Mar-11  Apr-11  May-11  Jun-11  \\\n",
       "0    8.75    8.71    8.67    8.59    8.52    8.45    8.42    8.39    8.38   \n",
       "\n",
       "   Jul-11  ...  Jan-20  Feb-20  Mar-20  Apr-20  May-20  Jun-20  Jul-20  \\\n",
       "0    8.37  ...    3.65    3.62    4.15   14.18   12.28    9.81    9.17   \n",
       "\n",
       "   Aug-20  Sep-20  Oct-20  \n",
       "0    7.78    7.26    6.41  \n",
       "\n",
       "[1 rows x 121 columns]"
      ]
     },
     "execution_count": 6,
     "metadata": {},
     "output_type": "execute_result"
    }
   ],
   "source": [
    "unemployment_df.head()"
   ]
  },
  {
   "cell_type": "code",
   "execution_count": null,
   "metadata": {},
   "outputs": [],
   "source": []
  }
 ],
 "metadata": {
  "kernelspec": {
   "display_name": "Python 3",
   "language": "python",
   "name": "python3"
  },
  "language_info": {
   "codemirror_mode": {
    "name": "ipython",
    "version": 3
   },
   "file_extension": ".py",
   "mimetype": "text/x-python",
   "name": "python",
   "nbconvert_exporter": "python",
   "pygments_lexer": "ipython3",
   "version": "3.7.6"
  }
 },
 "nbformat": 4,
 "nbformat_minor": 4
}
