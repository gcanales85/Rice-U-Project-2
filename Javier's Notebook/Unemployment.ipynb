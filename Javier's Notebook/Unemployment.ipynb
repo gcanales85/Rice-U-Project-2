{
 "cells": [
  {
   "cell_type": "code",
   "execution_count": 37,
   "metadata": {},
   "outputs": [],
   "source": [
    "import sqlalchemy \n",
    "from sqlalchemy.ext.automap import automap_base\n",
    "from sqlalchemy.orm import Session\n",
    "from sqlalchemy import create_engine, inspect, func, text\n",
    "import os\n",
    "import pandas as pd\n",
    "import csv\n",
    "import json"
   ]
  },
  {
   "cell_type": "code",
   "execution_count": 23,
   "metadata": {},
   "outputs": [
    {
     "data": {
      "text/html": [
       "<div>\n",
       "<style scoped>\n",
       "    .dataframe tbody tr th:only-of-type {\n",
       "        vertical-align: middle;\n",
       "    }\n",
       "\n",
       "    .dataframe tbody tr th {\n",
       "        vertical-align: top;\n",
       "    }\n",
       "\n",
       "    .dataframe thead th {\n",
       "        text-align: right;\n",
       "    }\n",
       "</style>\n",
       "<table border=\"1\" class=\"dataframe\">\n",
       "  <thead>\n",
       "    <tr style=\"text-align: right;\">\n",
       "      <th></th>\n",
       "      <th>State</th>\n",
       "      <th>Oct-10</th>\n",
       "      <th>Nov-10</th>\n",
       "      <th>Dec-10</th>\n",
       "      <th>Jan-11</th>\n",
       "      <th>Feb-11</th>\n",
       "      <th>Mar-11</th>\n",
       "      <th>Apr-11</th>\n",
       "      <th>May-11</th>\n",
       "      <th>Jun-11</th>\n",
       "      <th>...</th>\n",
       "      <th>Jan-20</th>\n",
       "      <th>Feb-20</th>\n",
       "      <th>Mar-20</th>\n",
       "      <th>Apr-20</th>\n",
       "      <th>May-20</th>\n",
       "      <th>Jun-20</th>\n",
       "      <th>Jul-20</th>\n",
       "      <th>Aug-20</th>\n",
       "      <th>Sep-20</th>\n",
       "      <th>Oct-20</th>\n",
       "    </tr>\n",
       "  </thead>\n",
       "  <tbody>\n",
       "    <tr>\n",
       "      <th>0</th>\n",
       "      <td>Alabama</td>\n",
       "      <td>10.1</td>\n",
       "      <td>10.2</td>\n",
       "      <td>10.3</td>\n",
       "      <td>10.2</td>\n",
       "      <td>10.2</td>\n",
       "      <td>10.1</td>\n",
       "      <td>10.0</td>\n",
       "      <td>10.0</td>\n",
       "      <td>10.0</td>\n",
       "      <td>...</td>\n",
       "      <td>2.7</td>\n",
       "      <td>2.7</td>\n",
       "      <td>3</td>\n",
       "      <td>13.8</td>\n",
       "      <td>9.6</td>\n",
       "      <td>7.6</td>\n",
       "      <td>7.9</td>\n",
       "      <td>5.6</td>\n",
       "      <td>6.7</td>\n",
       "      <td>5.8</td>\n",
       "    </tr>\n",
       "    <tr>\n",
       "      <th>1</th>\n",
       "      <td>Alaska</td>\n",
       "      <td>7.8</td>\n",
       "      <td>7.8</td>\n",
       "      <td>7.8</td>\n",
       "      <td>7.8</td>\n",
       "      <td>7.7</td>\n",
       "      <td>7.7</td>\n",
       "      <td>7.6</td>\n",
       "      <td>7.6</td>\n",
       "      <td>7.5</td>\n",
       "      <td>...</td>\n",
       "      <td>6.0</td>\n",
       "      <td>5.8</td>\n",
       "      <td>5.2</td>\n",
       "      <td>13.5</td>\n",
       "      <td>12.7</td>\n",
       "      <td>12.4</td>\n",
       "      <td>11.6</td>\n",
       "      <td>7.4</td>\n",
       "      <td>7.2</td>\n",
       "      <td>5.9</td>\n",
       "    </tr>\n",
       "    <tr>\n",
       "      <th>2</th>\n",
       "      <td>Arizona</td>\n",
       "      <td>10.1</td>\n",
       "      <td>10.0</td>\n",
       "      <td>9.9</td>\n",
       "      <td>9.8</td>\n",
       "      <td>9.7</td>\n",
       "      <td>9.7</td>\n",
       "      <td>9.7</td>\n",
       "      <td>9.7</td>\n",
       "      <td>9.7</td>\n",
       "      <td>...</td>\n",
       "      <td>4.5</td>\n",
       "      <td>4.5</td>\n",
       "      <td>6.1</td>\n",
       "      <td>13.4</td>\n",
       "      <td>9.0</td>\n",
       "      <td>10.0</td>\n",
       "      <td>10.7</td>\n",
       "      <td>5.9</td>\n",
       "      <td>6.5</td>\n",
       "      <td>8.0</td>\n",
       "    </tr>\n",
       "    <tr>\n",
       "      <th>3</th>\n",
       "      <td>Arkansas</td>\n",
       "      <td>8.3</td>\n",
       "      <td>8.3</td>\n",
       "      <td>8.4</td>\n",
       "      <td>8.5</td>\n",
       "      <td>8.5</td>\n",
       "      <td>8.5</td>\n",
       "      <td>8.5</td>\n",
       "      <td>8.5</td>\n",
       "      <td>8.4</td>\n",
       "      <td>...</td>\n",
       "      <td>3.5</td>\n",
       "      <td>3.5</td>\n",
       "      <td>5</td>\n",
       "      <td>10.8</td>\n",
       "      <td>9.6</td>\n",
       "      <td>8.1</td>\n",
       "      <td>7.1</td>\n",
       "      <td>7.4</td>\n",
       "      <td>7.2</td>\n",
       "      <td>6.2</td>\n",
       "    </tr>\n",
       "    <tr>\n",
       "      <th>4</th>\n",
       "      <td>California</td>\n",
       "      <td>12.3</td>\n",
       "      <td>12.3</td>\n",
       "      <td>12.2</td>\n",
       "      <td>12.1</td>\n",
       "      <td>12.0</td>\n",
       "      <td>11.9</td>\n",
       "      <td>11.8</td>\n",
       "      <td>11.8</td>\n",
       "      <td>11.8</td>\n",
       "      <td>...</td>\n",
       "      <td>3.9</td>\n",
       "      <td>3.9</td>\n",
       "      <td>5.5</td>\n",
       "      <td>16.4</td>\n",
       "      <td>16.4</td>\n",
       "      <td>14.9</td>\n",
       "      <td>13.5</td>\n",
       "      <td>11.2</td>\n",
       "      <td>11.1</td>\n",
       "      <td>9.3</td>\n",
       "    </tr>\n",
       "  </tbody>\n",
       "</table>\n",
       "<p>5 rows × 122 columns</p>\n",
       "</div>"
      ],
      "text/plain": [
       "        State  Oct-10  Nov-10  Dec-10  Jan-11  Feb-11  Mar-11  Apr-11  May-11  \\\n",
       "0     Alabama    10.1    10.2    10.3    10.2    10.2    10.1    10.0    10.0   \n",
       "1      Alaska     7.8     7.8     7.8     7.8     7.7     7.7     7.6     7.6   \n",
       "2     Arizona    10.1    10.0     9.9     9.8     9.7     9.7     9.7     9.7   \n",
       "3    Arkansas     8.3     8.3     8.4     8.5     8.5     8.5     8.5     8.5   \n",
       "4  California    12.3    12.3    12.2    12.1    12.0    11.9    11.8    11.8   \n",
       "\n",
       "   Jun-11  ...  Jan-20  Feb-20  Mar-20  Apr-20  May-20  Jun-20  Jul-20  \\\n",
       "0    10.0  ...     2.7     2.7       3    13.8     9.6     7.6     7.9   \n",
       "1     7.5  ...     6.0     5.8     5.2    13.5    12.7    12.4    11.6   \n",
       "2     9.7  ...     4.5     4.5     6.1    13.4     9.0    10.0    10.7   \n",
       "3     8.4  ...     3.5     3.5       5    10.8     9.6     8.1     7.1   \n",
       "4    11.8  ...     3.9     3.9     5.5    16.4    16.4    14.9    13.5   \n",
       "\n",
       "   Aug-20  Sep-20  Oct-20  \n",
       "0     5.6     6.7     5.8  \n",
       "1     7.4     7.2     5.9  \n",
       "2     5.9     6.5     8.0  \n",
       "3     7.4     7.2     6.2  \n",
       "4    11.2    11.1     9.3  \n",
       "\n",
       "[5 rows x 122 columns]"
      ]
     },
     "execution_count": 23,
     "metadata": {},
     "output_type": "execute_result"
    }
   ],
   "source": [
    "csv_file = os.path.join(\"state_unemployment.csv\")\n",
    "state_unemployment_df = pd.read_csv(csv_file)\n",
    "state_unemployment_df.head()"
   ]
  },
  {
   "cell_type": "code",
   "execution_count": 24,
   "metadata": {},
   "outputs": [
    {
     "data": {
      "text/plain": [
       "State      object\n",
       "Oct-10    float64\n",
       "Nov-10    float64\n",
       "Dec-10    float64\n",
       "Jan-11    float64\n",
       "           ...   \n",
       "Jun-20    float64\n",
       "Jul-20    float64\n",
       "Aug-20    float64\n",
       "Sep-20    float64\n",
       "Oct-20    float64\n",
       "Length: 122, dtype: object"
      ]
     },
     "execution_count": 24,
     "metadata": {},
     "output_type": "execute_result"
    }
   ],
   "source": [
    "state_unemployment_df.dtypes"
   ]
  },
  {
   "cell_type": "code",
   "execution_count": null,
   "metadata": {},
   "outputs": [],
   "source": [
    "# state_unemployment_df.to_dict(orient=\"records\")"
   ]
  },
  {
   "cell_type": "code",
   "execution_count": 28,
   "metadata": {},
   "outputs": [],
   "source": [
    "# pg_user = 'postgres'\n",
    "# pg_password = 'password1'\n",
    "# db_name = 'unemployment_db'\n",
    "\n",
    "# connection_string = f\"{pg_user}:{pg_password}@localhost:5432/{db_name}\"\n",
    "# engine = create_engine(f'postgresql://{connection_string}')\n",
    "\n",
    "# state_unemployment_df.to_sql(name='states', con=engine, if_exists='append', index=False)"
   ]
  },
  {
   "cell_type": "code",
   "execution_count": 38,
   "metadata": {},
   "outputs": [],
   "source": [
    "# Read in unemployment file and insert into table\n",
    "csvFile = open('state_unemployment.csv', 'r')\n",
    "reader = csv.DictReader(csvFile)\n",
    "for row in reader:\n",
    "  state = row['State']\n",
    "  del row['State']\n",
    "  month_data = json.dumps(row)\n",
    "\n",
    "  # insert into the database\n",
    "  query = text('INSERT INTO states_unemployment (state, data) VALUES (:state, :data)')\n",
    "  engine.execute(query, state=state, data=month_data)"
   ]
  },
  {
   "cell_type": "code",
   "execution_count": 39,
   "metadata": {},
   "outputs": [],
   "source": [
    "# Read in the geojson file and insert it into the table\n",
    "json_file = open('statesdata.geojson', 'r')\n",
    "data = json.load(json_file)\n",
    "\n",
    "for row in data['features']:\n",
    "  id = int(row['id'])\n",
    "  state = row['properties']['name']\n",
    "  density = row['properties']['density']\n",
    "  coordinates = json.dumps(row['geometry']['coordinates'])\n",
    "  \n",
    "  query = text('INSERT INTO geojson (id, state, density, coordinates) VALUES (:id, :state, :density, :coordinates)')\n",
    "  engine.execute(query, id=id, state=state, density=density, coordinates=coordinates)"
   ]
  },
  {
   "cell_type": "code",
   "execution_count": 44,
   "metadata": {},
   "outputs": [
    {
     "name": "stdout",
     "output_type": "stream",
     "text": [
      "<class 'dict'>\n"
     ]
    }
   ],
   "source": [
    "# select the state data\n",
    "with engine.connect() as connection:\n",
    "  result = connection.execute('SELECT geojson.state, geojson.density, geojson.coordinates, states_unemployment.data FROM geojson INNER JOIN states_unemployment on geojson.state = states_unemployment.state')\n",
    "  # what to return from api\n",
    "  result = [dict(row) for row in result]\n",
    "\n",
    "\n",
    "  print(type(result[0]))"
   ]
  },
  {
   "cell_type": "code",
   "execution_count": 45,
   "metadata": {},
   "outputs": [
    {
     "data": {
      "text/plain": [
       "['states_unemployment', 'geojson']"
      ]
     },
     "execution_count": 45,
     "metadata": {},
     "output_type": "execute_result"
    }
   ],
   "source": [
    "engine.table_names()"
   ]
  },
  {
   "cell_type": "code",
   "execution_count": 46,
   "metadata": {},
   "outputs": [
    {
     "data": {
      "text/html": [
       "<div>\n",
       "<style scoped>\n",
       "    .dataframe tbody tr th:only-of-type {\n",
       "        vertical-align: middle;\n",
       "    }\n",
       "\n",
       "    .dataframe tbody tr th {\n",
       "        vertical-align: top;\n",
       "    }\n",
       "\n",
       "    .dataframe thead th {\n",
       "        text-align: right;\n",
       "    }\n",
       "</style>\n",
       "<table border=\"1\" class=\"dataframe\">\n",
       "  <thead>\n",
       "    <tr style=\"text-align: right;\">\n",
       "      <th></th>\n",
       "      <th>state</th>\n",
       "      <th>data</th>\n",
       "    </tr>\n",
       "  </thead>\n",
       "  <tbody>\n",
       "    <tr>\n",
       "      <th>0</th>\n",
       "      <td>Alabama</td>\n",
       "      <td>{\"Oct-10\": \"10.1\", \"Nov-10\": \"10.2\", \"Dec-10\":...</td>\n",
       "    </tr>\n",
       "    <tr>\n",
       "      <th>1</th>\n",
       "      <td>Alaska</td>\n",
       "      <td>{\"Oct-10\": \"7.8\", \"Nov-10\": \"7.8\", \"Dec-10\": \"...</td>\n",
       "    </tr>\n",
       "    <tr>\n",
       "      <th>2</th>\n",
       "      <td>Arizona</td>\n",
       "      <td>{\"Oct-10\": \"10.1\", \"Nov-10\": \"10\", \"Dec-10\": \"...</td>\n",
       "    </tr>\n",
       "    <tr>\n",
       "      <th>3</th>\n",
       "      <td>Arkansas</td>\n",
       "      <td>{\"Oct-10\": \"8.3\", \"Nov-10\": \"8.3\", \"Dec-10\": \"...</td>\n",
       "    </tr>\n",
       "    <tr>\n",
       "      <th>4</th>\n",
       "      <td>California</td>\n",
       "      <td>{\"Oct-10\": \"12.3\", \"Nov-10\": \"12.3\", \"Dec-10\":...</td>\n",
       "    </tr>\n",
       "  </tbody>\n",
       "</table>\n",
       "</div>"
      ],
      "text/plain": [
       "        state                                               data\n",
       "0     Alabama  {\"Oct-10\": \"10.1\", \"Nov-10\": \"10.2\", \"Dec-10\":...\n",
       "1      Alaska  {\"Oct-10\": \"7.8\", \"Nov-10\": \"7.8\", \"Dec-10\": \"...\n",
       "2     Arizona  {\"Oct-10\": \"10.1\", \"Nov-10\": \"10\", \"Dec-10\": \"...\n",
       "3    Arkansas  {\"Oct-10\": \"8.3\", \"Nov-10\": \"8.3\", \"Dec-10\": \"...\n",
       "4  California  {\"Oct-10\": \"12.3\", \"Nov-10\": \"12.3\", \"Dec-10\":..."
      ]
     },
     "execution_count": 46,
     "metadata": {},
     "output_type": "execute_result"
    }
   ],
   "source": [
    "pd.read_sql_query('select * from states_unemployment', con=engine).head()"
   ]
  },
  {
   "cell_type": "code",
   "execution_count": null,
   "metadata": {},
   "outputs": [],
   "source": []
  }
 ],
 "metadata": {
  "kernelspec": {
   "display_name": "Python 3",
   "language": "python",
   "name": "python3"
  },
  "language_info": {
   "codemirror_mode": {
    "name": "ipython",
    "version": 3
   },
   "file_extension": ".py",
   "mimetype": "text/x-python",
   "name": "python",
   "nbconvert_exporter": "python",
   "pygments_lexer": "ipython3",
   "version": "3.8.3"
  }
 },
 "nbformat": 4,
 "nbformat_minor": 4
}
